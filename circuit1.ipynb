{
 "cells": [
  {
   "cell_type": "code",
   "execution_count": 3,
   "id": "e049943d",
   "metadata": {},
   "outputs": [],
   "source": [
    "from math import pi\n",
    "\n",
    "from bloqade import qasm2\n",
    "from kirin.dialects import ilist\n",
    "\n",
    "from bloqade.qasm2.emit import QASM2 # the QASM2 target\n",
    "from bloqade.qasm2.parse import pprint # the QASM2 pretty printer"
   ]
  },
  {
   "cell_type": "code",
   "execution_count": 10,
   "id": "d3f87503",
   "metadata": {},
   "outputs": [
    {
     "name": "stdout",
     "output_type": "stream",
     "text": [
      "\u001b[90mOPENQASM 2.0\u001b[0m;\n",
      "\u001b[31minclude\u001b[0m \u001b[32m\"qelib1.inc\"\u001b[0m;\n",
      "\u001b[31mqreg\u001b[0m qreg[3];\n",
      "\u001b[36mh\u001b[0m \u001b[36mqreg\u001b[0m[\u001b[39m2\u001b[0m];\n",
      "\u001b[36mcrz\u001b[0m (1.5707963267948966) \u001b[36mqreg\u001b[0m[\u001b[39m1\u001b[0m], \u001b[36mqreg\u001b[0m[\u001b[39m2\u001b[0m];\n",
      "\u001b[36mcrz\u001b[0m (0.7853981633974483) \u001b[36mqreg\u001b[0m[\u001b[39m0\u001b[0m], \u001b[36mqreg\u001b[0m[\u001b[39m2\u001b[0m];\n",
      "\u001b[36mh\u001b[0m \u001b[36mqreg\u001b[0m[\u001b[39m1\u001b[0m];\n",
      "\u001b[36mcrz\u001b[0m (1.5707963267948966) \u001b[36mqreg\u001b[0m[\u001b[39m0\u001b[0m], \u001b[36mqreg\u001b[0m[\u001b[39m1\u001b[0m];\n",
      "\u001b[36mh\u001b[0m \u001b[36mqreg\u001b[0m[\u001b[39m0\u001b[0m];\n"
     ]
    }
   ],
   "source": [
    "# def qft(n_qubits: int):\n",
    "\n",
    "\n",
    "def define_qft(N=3):\n",
    "    @qasm2.extended\n",
    "    def qft_circuit():\n",
    "        qreg = qasm2.qreg(N)\n",
    "\n",
    "\n",
    "        for i in range(N):\n",
    "            q_i = N-1-i\n",
    "            qasm2.h(qreg[q_i])\n",
    "            for j in range(q_i):\n",
    "                q_control = q_i - j - 1\n",
    "                theta = pi / (2 ** (j+1))\n",
    "                qasm2.crz(qreg[q_control], qreg[q_i], theta)\n",
    "\n",
    "    return qft_circuit\n",
    "\n",
    "\n",
    "target = QASM2()\n",
    "ast = target.emit(define_qft(3))\n",
    "pprint(ast)\n",
    "\n",
    "    # qasm2.h(qreg[2])\n",
    "    # qasm2.crz(qreg[1], qreg[2], pi/2)\n",
    "    # qasm2.crz(qreg[0], qreg[2], pi/4)"
   ]
  }
 ],
 "metadata": {
  "kernelspec": {
   "display_name": ".venv",
   "language": "python",
   "name": "python3"
  },
  "language_info": {
   "codemirror_mode": {
    "name": "ipython",
    "version": 3
   },
   "file_extension": ".py",
   "mimetype": "text/x-python",
   "name": "python",
   "nbconvert_exporter": "python",
   "pygments_lexer": "ipython3",
   "version": "3.10.9"
  }
 },
 "nbformat": 4,
 "nbformat_minor": 5
}
