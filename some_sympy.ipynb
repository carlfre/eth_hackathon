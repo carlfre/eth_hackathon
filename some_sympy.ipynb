{
 "cells": [
  {
   "cell_type": "code",
   "execution_count": 4,
   "id": "198a5cd8",
   "metadata": {},
   "outputs": [
    {
     "data": {
      "text/latex": [
       "$\\displaystyle \\left[\\begin{matrix}\\cos{\\left(\\frac{a}{2} \\right)} & - e^{i c} \\sin{\\left(\\frac{a}{2} \\right)}\\\\e^{i b} \\sin{\\left(\\frac{a}{2} \\right)} & e^{i \\left(b + c\\right)} \\cos{\\left(\\frac{a}{2} \\right)}\\end{matrix}\\right]$"
      ],
      "text/plain": [
       "Matrix([\n",
       "[         cos(a/2),      -exp(I*c)*sin(a/2)],\n",
       "[exp(I*b)*sin(a/2), exp(I*(b + c))*cos(a/2)]])"
      ]
     },
     "metadata": {},
     "output_type": "display_data"
    },
    {
     "data": {
      "text/latex": [
       "$\\displaystyle \\left[\\begin{matrix}\\cos{\\left(\\frac{x}{2} \\right)} & - e^{i z} \\sin{\\left(\\frac{x}{2} \\right)}\\\\e^{i y} \\sin{\\left(\\frac{x}{2} \\right)} & e^{i \\left(y + z\\right)} \\cos{\\left(\\frac{x}{2} \\right)}\\end{matrix}\\right]$"
      ],
      "text/plain": [
       "Matrix([\n",
       "[         cos(x/2),      -exp(I*z)*sin(x/2)],\n",
       "[exp(I*y)*sin(x/2), exp(I*(y + z))*cos(x/2)]])"
      ]
     },
     "metadata": {},
     "output_type": "display_data"
    }
   ],
   "source": [
    "import sympy as sp\n",
    "\n",
    "a, b, c = sp.symbols('a b c')\n",
    "\n",
    "x, y, z = sp.symbols('x y z')\n",
    "\n",
    "# exp = sp.exp()\n",
    "U_first = sp.Matrix([[sp.cos(a/2), -sp.exp(sp.I * c) * sp.sin(a/2)],\n",
    "                     [sp.exp(sp.I * b) * sp.sin(a/2), sp.exp(sp.I * (b + c)) *(sp.cos(a/2))]])\n",
    "\n",
    "U_second = sp.Matrix([[sp.cos(x/2), -sp.exp(sp.I * z) * sp.sin(x/2)],\n",
    "                     [sp.exp(sp.I * y) * sp.sin(x/2), sp.exp(sp.I * (y + z)) *(sp.cos(x/2))]])\n",
    "\n",
    "\n",
    "display(U_first)\n",
    "\n",
    "\n",
    "display(U_second)"
   ]
  },
  {
   "cell_type": "code",
   "execution_count": 6,
   "id": "ad824a4f",
   "metadata": {},
   "outputs": [
    {
     "data": {
      "text/latex": [
       "$\\displaystyle \\left[\\begin{matrix}- e^{i c} e^{i y} \\sin{\\left(\\frac{a}{2} \\right)} \\sin{\\left(\\frac{x}{2} \\right)} + \\cos{\\left(\\frac{a}{2} \\right)} \\cos{\\left(\\frac{x}{2} \\right)} & - e^{i c} e^{i \\left(y + z\\right)} \\sin{\\left(\\frac{a}{2} \\right)} \\cos{\\left(\\frac{x}{2} \\right)} - e^{i z} \\sin{\\left(\\frac{x}{2} \\right)} \\cos{\\left(\\frac{a}{2} \\right)}\\\\e^{i b} \\sin{\\left(\\frac{a}{2} \\right)} \\cos{\\left(\\frac{x}{2} \\right)} + e^{i y} e^{i \\left(b + c\\right)} \\sin{\\left(\\frac{x}{2} \\right)} \\cos{\\left(\\frac{a}{2} \\right)} & - e^{i b} e^{i z} \\sin{\\left(\\frac{a}{2} \\right)} \\sin{\\left(\\frac{x}{2} \\right)} + e^{i \\left(b + c\\right)} e^{i \\left(y + z\\right)} \\cos{\\left(\\frac{a}{2} \\right)} \\cos{\\left(\\frac{x}{2} \\right)}\\end{matrix}\\right]$"
      ],
      "text/plain": [
       "Matrix([\n",
       "[              -exp(I*c)*exp(I*y)*sin(a/2)*sin(x/2) + cos(a/2)*cos(x/2),                -exp(I*c)*exp(I*(y + z))*sin(a/2)*cos(x/2) - exp(I*z)*sin(x/2)*cos(a/2)],\n",
       "[exp(I*b)*sin(a/2)*cos(x/2) + exp(I*y)*exp(I*(b + c))*sin(x/2)*cos(a/2), -exp(I*b)*exp(I*z)*sin(a/2)*sin(x/2) + exp(I*(b + c))*exp(I*(y + z))*cos(a/2)*cos(x/2)]])"
      ]
     },
     "metadata": {},
     "output_type": "display_data"
    },
    {
     "data": {
      "text/latex": [
       "$\\displaystyle \\left[\\begin{matrix}- e^{i \\left(c + y\\right)} \\sin{\\left(\\frac{a}{2} \\right)} \\sin{\\left(\\frac{x}{2} \\right)} + \\cos{\\left(\\frac{a}{2} \\right)} \\cos{\\left(\\frac{x}{2} \\right)} & - e^{i z} \\sin{\\left(\\frac{x}{2} \\right)} \\cos{\\left(\\frac{a}{2} \\right)} - e^{i \\left(c + y + z\\right)} \\sin{\\left(\\frac{a}{2} \\right)} \\cos{\\left(\\frac{x}{2} \\right)}\\\\e^{i b} \\sin{\\left(\\frac{a}{2} \\right)} \\cos{\\left(\\frac{x}{2} \\right)} + e^{i \\left(b + c + y\\right)} \\sin{\\left(\\frac{x}{2} \\right)} \\cos{\\left(\\frac{a}{2} \\right)} & - e^{i \\left(b + z\\right)} \\sin{\\left(\\frac{a}{2} \\right)} \\sin{\\left(\\frac{x}{2} \\right)} + e^{i \\left(b + c + y + z\\right)} \\cos{\\left(\\frac{a}{2} \\right)} \\cos{\\left(\\frac{x}{2} \\right)}\\end{matrix}\\right]$"
      ],
      "text/plain": [
       "Matrix([\n",
       "[            -exp(I*(c + y))*sin(a/2)*sin(x/2) + cos(a/2)*cos(x/2),           -exp(I*z)*sin(x/2)*cos(a/2) - exp(I*(c + y + z))*sin(a/2)*cos(x/2)],\n",
       "[exp(I*b)*sin(a/2)*cos(x/2) + exp(I*(b + c + y))*sin(x/2)*cos(a/2), -exp(I*(b + z))*sin(a/2)*sin(x/2) + exp(I*(b + c + y + z))*cos(a/2)*cos(x/2)]])"
      ]
     },
     "metadata": {},
     "output_type": "display_data"
    }
   ],
   "source": [
    "prod = U_first * U_second\n",
    "display(prod)\n",
    "\n",
    "prod_simplified = sp.simplify(prod)\n",
    "display(prod_simplified)"
   ]
  },
  {
   "cell_type": "code",
   "execution_count": null,
   "id": "bc6a5b75",
   "metadata": {},
   "outputs": [],
   "source": [
    "def get_parameters()"
   ]
  },
  {
   "cell_type": "code",
   "execution_count": 8,
   "id": "48a7b3c1",
   "metadata": {},
   "outputs": [],
   "source": [
    "k, l, m = sp.symbols('k l m')\n",
    "\n",
    "# exp = sp.exp()\n",
    "U_desired = sp.Matrix([[sp.cos(k/2), -sp.exp(sp.I * m) * sp.sin(k/2)],\n",
    "                     [sp.exp(sp.I * l) * sp.sin(k/2), sp.exp(sp.I * (l + m)) *(sp.cos(k/2))]])\n"
   ]
  },
  {
   "cell_type": "code",
   "execution_count": 23,
   "id": "ec0e184d",
   "metadata": {},
   "outputs": [
    {
     "name": "stdout",
     "output_type": "stream",
     "text": [
      "[cos(k/2), -exp(I*m)*sin(k/2), exp(I*l)*sin(k/2), exp(I*(l + m))*cos(k/2)]\n"
     ]
    }
   ],
   "source": [
    "print([kjl for kjl in U_desired])"
   ]
  },
  {
   "cell_type": "code",
   "execution_count": null,
   "id": "78599eae",
   "metadata": {},
   "outputs": [],
   "source": [
    "print()"
   ]
  },
  {
   "cell_type": "code",
   "execution_count": 25,
   "id": "69b47f8d",
   "metadata": {},
   "outputs": [
    {
     "data": {
      "text/plain": [
       "[Eq(-exp(I*(c + y))*sin(a/2)*sin(x/2) + cos(a/2)*cos(x/2), cos(k/2)),\n",
       " Eq(-exp(I*z)*sin(x/2)*cos(a/2) - exp(I*(c + y + z))*sin(a/2)*cos(x/2), -exp(I*m)*sin(k/2)),\n",
       " Eq(exp(I*b)*sin(a/2)*cos(x/2) + exp(I*(b + c + y))*sin(x/2)*cos(a/2), exp(I*l)*sin(k/2)),\n",
       " Eq(-exp(I*(b + z))*sin(a/2)*sin(x/2) + exp(I*(b + c + y + z))*cos(a/2)*cos(x/2), exp(I*(l + m))*cos(k/2))]"
      ]
     },
     "metadata": {},
     "output_type": "display_data"
    }
   ],
   "source": [
    "eqs = [sp.Eq(lhs, rhs) for lhs, rhs in zip(prod_simplified, U_desired)]\n",
    "display(eqs)\n",
    "solutions = sp.solve(eqs, (k, l, m))\n"
   ]
  },
  {
   "cell_type": "code",
   "execution_count": 34,
   "id": "24c8ffda",
   "metadata": {},
   "outputs": [
    {
     "name": "stdout",
     "output_type": "stream",
     "text": [
      "2\n"
     ]
    }
   ],
   "source": [
    "print(len(solutions))\n"
   ]
  },
  {
   "cell_type": "code",
   "execution_count": null,
   "id": "c6e3e668",
   "metadata": {},
   "outputs": [],
   "source": []
  },
  {
   "cell_type": "code",
   "execution_count": null,
   "id": "bc2e132e",
   "metadata": {},
   "outputs": [],
   "source": [
    "def k_l_m(a, b, c, x, y, z):\n",
    "    # Return the first solution for k, l, m\n",
    "    return solutions[0]"
   ]
  },
  {
   "cell_type": "code",
   "execution_count": 12,
   "id": "55804208",
   "metadata": {},
   "outputs": [
    {
     "data": {
      "text/plain": [
       "list"
      ]
     },
     "execution_count": 12,
     "metadata": {},
     "output_type": "execute_result"
    }
   ],
   "source": [
    "type(solutions)"
   ]
  },
  {
   "cell_type": "code",
   "execution_count": 13,
   "id": "a8aeed85",
   "metadata": {},
   "outputs": [],
   "source": [
    "solutions_simplified = [sp.simplify(klm) for klm in solutions]"
   ]
  },
  {
   "cell_type": "code",
   "execution_count": 14,
   "id": "b1de73ab",
   "metadata": {},
   "outputs": [
    {
     "name": "stdout",
     "output_type": "stream",
     "text": [
      "[(-2*acos(-exp(I*(c + y))*sin(a/2)*sin(x/2) + cos(a/2)*cos(x/2)) + 4*pi, -I*log((-exp(I*(c + y))*sin(x/2)*cos(a/2) - sin(a/2)*cos(x/2))*exp(I*b)/sqrt((-exp(I*(c + y))*sin(a/2)*sin(x/2) + cos(a/2)*cos(x/2) + 1)*(exp(I*(c + y))*sin(a/2)*sin(x/2) - cos(a/2)*cos(x/2) + 1))), -I*log((-exp(I*(c + y))*sin(a/2)*cos(x/2) - sin(x/2)*cos(a/2))*exp(I*z)/sqrt((-exp(I*(c + y))*sin(a/2)*sin(x/2) + cos(a/2)*cos(x/2) + 1)*(exp(I*(c + y))*sin(a/2)*sin(x/2) - cos(a/2)*cos(x/2) + 1)))), (2*acos(-exp(I*(c + y))*sin(a/2)*sin(x/2) + cos(a/2)*cos(x/2)), -I*log((exp(I*(c + y))*sin(x/2)*cos(a/2) + sin(a/2)*cos(x/2))*exp(I*b)/sqrt((-exp(I*(c + y))*sin(a/2)*sin(x/2) + cos(a/2)*cos(x/2) + 1)*(exp(I*(c + y))*sin(a/2)*sin(x/2) - cos(a/2)*cos(x/2) + 1))), -I*log((exp(I*(c + y))*sin(a/2)*cos(x/2) + sin(x/2)*cos(a/2))*exp(I*z)/sqrt((-exp(I*(c + y))*sin(a/2)*sin(x/2) + cos(a/2)*cos(x/2) + 1)*(exp(I*(c + y))*sin(a/2)*sin(x/2) - cos(a/2)*cos(x/2) + 1))))]\n"
     ]
    }
   ],
   "source": [
    "print(solutions_simplified)"
   ]
  },
  {
   "cell_type": "code",
   "execution_count": 21,
   "id": "e57baba0",
   "metadata": {},
   "outputs": [],
   "source": [
    "def theta(a, b, c, x, y, z):\n",
    "    # Return the first solution for k, l, m\n",
    "    return solutions_simplified[0][0]#.replace({a: a, b: b, c: c, x: x, y: y, z: z})"
   ]
  },
  {
   "cell_type": "code",
   "execution_count": 22,
   "id": "87eee8ff",
   "metadata": {},
   "outputs": [
    {
     "data": {
      "text/latex": [
       "$\\displaystyle - 2 \\operatorname{acos}{\\left(- e^{i \\left(c + y\\right)} \\sin{\\left(\\frac{a}{2} \\right)} \\sin{\\left(\\frac{x}{2} \\right)} + \\cos{\\left(\\frac{a}{2} \\right)} \\cos{\\left(\\frac{x}{2} \\right)} \\right)} + 4 \\pi$"
      ],
      "text/plain": [
       "-2*acos(-exp(I*(c + y))*sin(a/2)*sin(x/2) + cos(a/2)*cos(x/2)) + 4*pi"
      ]
     },
     "execution_count": 22,
     "metadata": {},
     "output_type": "execute_result"
    }
   ],
   "source": [
    "theta(0.1, 0.2, 0.3, 0.4, 0.5, 0.6)"
   ]
  }
 ],
 "metadata": {
  "kernelspec": {
   "display_name": ".venv",
   "language": "python",
   "name": "python3"
  },
  "language_info": {
   "codemirror_mode": {
    "name": "ipython",
    "version": 3
   },
   "file_extension": ".py",
   "mimetype": "text/x-python",
   "name": "python",
   "nbconvert_exporter": "python",
   "pygments_lexer": "ipython3",
   "version": "3.10.9"
  }
 },
 "nbformat": 4,
 "nbformat_minor": 5
}
