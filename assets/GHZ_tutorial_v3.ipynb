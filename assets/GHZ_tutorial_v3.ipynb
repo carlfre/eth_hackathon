{
 "cells": [
  {
   "cell_type": "markdown",
   "id": "2854bf92",
   "metadata": {},
   "source": [
    "# GHZ State Preparation with Parallelism\n",
    "In this example, we will implement a *Greenberger-Horne-Zeilinger* (GHZ) state preparation circuit with $N = 2^n$ qubits. Our goal is to learn how to deploy QASM files with Bloqade that can be interpreted by neutral-atom quantum computers while making use of specific features of this technology. \n",
    "\n",
    "First, we will present the standard linear-depth construction of a GHZ state preparation circuit in Bloqade. Following that, we will show a log-depth construction that achieves the same result and build it in Bloqade. This log-depth construction is very convenient for us, as Bloqade (and QuEra's neutral atom hardware!) support *parallel* gates, allowing for the application of the same gate across multiple qubits simultaneously. We thus take this one step further and, combining the circuit above with the arbitrary connectivity enabled by atom *shuttling*, we showcase how to achieve log-depth not only the circuit logic but also in its *execution*. We will tie it all together with an excursion on how to develop optimized compiler passes with `Bloqade` and `Kirin` to automate workflow.\n",
    "\n",
    "We beging this excursion with some simple imports from `Bloqade` and `Kirin`:"
   ]
  },
  {
   "cell_type": "code",
   "execution_count": 1,
   "id": "8f5dac9a",
   "metadata": {},
   "outputs": [],
   "source": [
    "import math\n",
    "\n",
    "from bloqade import qasm2\n",
    "from kirin.dialects import ilist"
   ]
  },
  {
   "cell_type": "markdown",
   "id": "a9a4da07",
   "metadata": {
    "lines_to_next_cell": 2
   },
   "source": [
    "## Simple Linear Depth Implementation of a GHZ State Preparation Circuit\n",
    "\n",
    "A simple GHZ state preparation circuit can be built with $N - 1$ CNOT gates and $1$ H gate as follows:\n",
    "\n",
    "<div align=\"center\">\n",
    "<picture>\n",
    "   <img src=\"./GHZ_linear.png\" style=\"width: 35vw; min-width: 330px;\" >\n",
    "</picture>\n",
    "</div>\n",
    "\n",
    "Notice that the CNOTs cascade in series, applied to all possible qubits. The number of CNOTs and the depth of the circuit thus grows with the number of qubits $N$."
   ]
  },
  {
   "cell_type": "markdown",
   "id": "25b30691",
   "metadata": {},
   "source": [
    "With Bloqade, we can generate a QASM2 representation of this circuit with the following function:"
   ]
  },
  {
   "cell_type": "code",
   "execution_count": 2,
   "id": "92a42ca7",
   "metadata": {
    "lines_to_next_cell": 2
   },
   "outputs": [],
   "source": [
    "def ghz_linear(n: int):\n",
    "    n_qubits = int(2**n)\n",
    "\n",
    "    @qasm2.extended\n",
    "    def ghz_linear_program():\n",
    "\n",
    "        qreg = qasm2.qreg(n_qubits)\n",
    "        # Apply a Hadamard on the first qubit\n",
    "        qasm2.h(qreg[0])\n",
    "        # Create a cascading sequence of CX gates\n",
    "        # necessary for quantum computers that\n",
    "        # only have nearest-neighbor connectivity between qubits\n",
    "        for i in range(1, n_qubits):\n",
    "            qasm2.cx(qreg[i - 1], qreg[i])\n",
    "\n",
    "    return ghz_linear_program"
   ]
  },
  {
   "cell_type": "markdown",
   "id": "4c343e19",
   "metadata": {},
   "source": [
    "This naively simple syntax already hides several Bloqade-specific features that will play a big role in the efficient deployment of circuits.  Notice the use of the `@qasm2.extended` decorator. This is turning the `ghz_linear_program()` function into a kernel that allows the deployment of high-level programming control-flow to our QASM2 representation of the circuit. This includes the ability to declare `for` loops, as well as the utilization of the variable `n_qubits` to generate circuits for variable problem instances. _(for the programming savvy, you may recognize this structure of nesting functions keeping local variables is known as a 'closure')_\n",
    "\n",
    "Let's print the QASM2 file corresponding to this circuit for 4 qubits:"
   ]
  },
  {
   "cell_type": "code",
   "execution_count": 5,
   "id": "186add47",
   "metadata": {},
   "outputs": [
    {
     "name": "stdout",
     "output_type": "stream",
     "text": [
      "\u001b[90mOPENQASM 2.0\u001b[0m;\n",
      "\u001b[31minclude\u001b[0m \u001b[32m\"qelib1.inc\"\u001b[0m;\n",
      "\u001b[31mqreg\u001b[0m qreg[4];\n",
      "\u001b[36mh\u001b[0m \u001b[36mqreg\u001b[0m[\u001b[39m0\u001b[0m];\n",
      "\u001b[31mCX\u001b[0m \u001b[36mqreg\u001b[0m[\u001b[39m0\u001b[0m], \u001b[36mqreg\u001b[0m[\u001b[39m1\u001b[0m];\n",
      "\u001b[31mCX\u001b[0m \u001b[36mqreg\u001b[0m[\u001b[39m1\u001b[0m], \u001b[36mqreg\u001b[0m[\u001b[39m2\u001b[0m];\n",
      "\u001b[31mCX\u001b[0m \u001b[36mqreg\u001b[0m[\u001b[39m2\u001b[0m], \u001b[36mqreg\u001b[0m[\u001b[39m3\u001b[0m];\n"
     ]
    }
   ],
   "source": [
    "from bloqade.qasm2.emit import QASM2 # the QASM2 target\n",
    "from bloqade.qasm2.parse import pprint # the QASM2 pretty printer\n",
    "\n",
    "target = QASM2()\n",
    "ast = target.emit(ghz_linear(2))\n",
    "pprint(ast)"
   ]
  },
  {
   "cell_type": "markdown",
   "id": "66f644cd",
   "metadata": {},
   "source": [
    "CNOTs are represented by 'CX' in QASM2, while the Hadamard gate is just 'h'. \n",
    "\n",
    "At first sight, this does not look like exactly the circuit we wanted. Yet, notice that in the structure of the circuit above, one is growing the GHZ state qubit-by-qubit. The first qubit is just brought into a $|+ \\rangle$ state, which would be our 1-qubit GHZ state. The next CNOT brings us to the 2-qubit GHZ state  $\\sim |00 \\rangle+|11 \\rangle$ (also known as a Bell state). Now notice that the qubits in each register are equivalent. This means that instead of using $q_0$ as the control for the next layer, we could just as well use $q_1$. This symmetry propagates throughout and we can choose any qubit for control as long as it has previously been at target. This cascading of controls is what see in the QASM representation above."
   ]
  },
  {
   "cell_type": "markdown",
   "id": "adac253e",
   "metadata": {},
   "source": [
    "## Log-depth Implementation of a GHZ State Preparation Circuit\n",
    "\n",
    "While the circuit above is perfectly functional to the purposes of generating a GHZ state in theory, it is highly unoptimized. We should strive to make the most of a quantum computer's resources, so let's look how we can make it better.\n",
    "\n",
    "From the original protocol (always using $q_0$ as the control), we see that the CNOTs do not have a preferential order. This should not come as a surprise, again from the fact that the GHZ state is invariant under qubit permutations. Thus, first communting the CNOTs accordingly, and then cascading the controls, we realize that it is possible to convert the serial structure of cascading CNOTs above into the following log(N) circuit [(see *Mooney, White, Hill, Hollenberg* - 2021)](https://arxiv.org/abs/2101.08946)."
   ]
  },
  {
   "cell_type": "markdown",
   "id": "2a820d2e",
   "metadata": {},
   "source": [
    "<div align=\"center\">\n",
    "<picture>\n",
    "   <img src=\"./GHZ_parallel.png\" style=\"width: 25vw; height: 25vw;\" >\n",
    "</picture>\n",
    "</div>"
   ]
  },
  {
   "cell_type": "markdown",
   "id": "686f8c2a",
   "metadata": {},
   "source": [
    "Naturally, the number of entangling gates did not change. But now, since a CNOT between $q_0$ and $q_1$ commutes with a CNOT between $q_3$ and $q_5$, those gates can appear in parallel in the circuit, and so on. This makes its logical depth shorter, in fact logarithmic in the number of qubits."
   ]
  },
  {
   "cell_type": "markdown",
   "id": "217f0fbb",
   "metadata": {
    "lines_to_next_cell": 2
   },
   "source": [
    "# Circuit vs. Execution Depth\n",
    "\n",
    "Before going any further, it's worth distinguishing between the concept of circuit depth and circuit execution depth. Just because the circuit above looks shallower does not mean that a quantum computer would implement it physically like so. That depends on the possible connectivities, and also on whether instructions can be sent to the computer that will tell which gates can be done in parallel.\n",
    "\n",
    "So let's try to address that. First, let's just revise the implementation of the circuit on Bloqade. We can achieve a log-depth GHZ preparation circuit like the above via the following workflow:"
   ]
  },
  {
   "cell_type": "code",
   "execution_count": 6,
   "id": "15799a97",
   "metadata": {
    "lines_to_next_cell": 2
   },
   "outputs": [],
   "source": [
    "def ghz_log_depth(n: int):\n",
    "    n_qubits = int(2**n)\n",
    "\n",
    "    @qasm2.extended\n",
    "    def layer_of_cx(i_layer: int, qreg: qasm2.QReg):\n",
    "        # count layer and deploy CNOT gates accordingly\n",
    "        step = n_qubits // (2**i_layer)\n",
    "        for j in range(0, n_qubits, step):\n",
    "            qasm2.cx(ctrl=qreg[j], qarg=qreg[j + step // 2])\n",
    "\n",
    "    @qasm2.extended\n",
    "    def ghz_log_depth_program():\n",
    "\n",
    "        qreg = qasm2.qreg(n_qubits)\n",
    "        # add starting Hadamard and build layers\n",
    "        qasm2.h(qreg[0])\n",
    "        for i in range(n):\n",
    "            layer_of_cx(i_layer=i, qreg=qreg)\n",
    "\n",
    "    return ghz_log_depth_program"
   ]
  },
  {
   "cell_type": "markdown",
   "id": "f3f87ac6",
   "metadata": {},
   "source": [
    "Again, let's print the QASM2 script for a small instance of the circuit:"
   ]
  },
  {
   "cell_type": "code",
   "execution_count": 7,
   "id": "41c5515f",
   "metadata": {},
   "outputs": [
    {
     "name": "stdout",
     "output_type": "stream",
     "text": [
      "\u001b[90mOPENQASM 2.0\u001b[0m;\n",
      "\u001b[31minclude\u001b[0m \u001b[32m\"qelib1.inc\"\u001b[0m;\n",
      "\u001b[31mqreg\u001b[0m qreg[4];\n",
      "\u001b[36mh\u001b[0m \u001b[36mqreg\u001b[0m[\u001b[39m0\u001b[0m];\n",
      "\u001b[31mCX\u001b[0m \u001b[36mqreg\u001b[0m[\u001b[39m0\u001b[0m], \u001b[36mqreg\u001b[0m[\u001b[39m2\u001b[0m];\n",
      "\u001b[31mCX\u001b[0m \u001b[36mqreg\u001b[0m[\u001b[39m0\u001b[0m], \u001b[36mqreg\u001b[0m[\u001b[39m1\u001b[0m];\n",
      "\u001b[31mCX\u001b[0m \u001b[36mqreg\u001b[0m[\u001b[39m2\u001b[0m], \u001b[36mqreg\u001b[0m[\u001b[39m3\u001b[0m];\n"
     ]
    }
   ],
   "source": [
    "target = QASM2()\n",
    "ast = target.emit(ghz_log_depth(2))\n",
    "pprint(ast)"
   ]
  },
  {
   "cell_type": "markdown",
   "id": "87441655",
   "metadata": {},
   "source": [
    "It should be clear that the number of gates is exactly as in the serial implementation above. The difference is that the last two CNOTs commute with each other and can be deployed in parallel. Still, each CNOT gate instruction inside our for-loop above is executed in sequence. Nothing in QASM can indicate for the quantum computer that some of these gates are parallelizable. Even thought the circuit depth is $log(N) = n$, the QASM execution depth is still $N$."
   ]
  },
  {
   "cell_type": "markdown",
   "id": "fc73189f",
   "metadata": {
    "lines_to_next_cell": 2
   },
   "source": [
    "## Our Native Gate Set and Parallelism\n",
    "\n",
    "Now we can fix the execution parallelization. By nature, neutral-atom quantum computers can execute certain native gates in parallel in a single instruction/ execution cycle. The concept is very similar to the SIMD (Single Instruction, Multiple Data) in classical computing.\n",
    "\n",
    "On our hardware, there are two important factors to be considered:\n",
    "1. the native gate set allows for arbitrary (parallel) single-qubit rotations and (parallel) 2-qubit CZ gates.\n",
    "2. Our atom shuttling architecture allows arbitrary qubit connectivity. This means that our parallel instruction is not limited to fixed connectivity (for example nearest neighbor connectivity).\n",
    "\n",
    "When we say \"in parallel\" we mean that the gates can be deployed simultaneously over many qubits, but also that the gates to be deployed have to be _exactly_ the same. In practice, how many gates can really be deployed in parallel, and how efficient atom transport or laser targeting is for that realization, depends on the given hardware capabilities. We can ignore that for the time being, for pedagogical purposes.\n",
    "\n",
    "With the above in mind, we can rewrite the `layer` subroutine above to now use the `qasm2.parallel` dialect in Bloqade. But we also have to choose gates within our native hardware-deployable set. CNOT gates can be decomposed into CZ gates with $R_y(-\\pi/2)$ and $R_y(\\pi/2)$ single-qubit gates flanking the target qubits. $R_y(\\theta)$ rotations can be represented natively for us in terms of $U3(\\theta,\\phi,\\lambda)$ gates for which we follow standard convention such as [this](https://docs.quantum.ibm.com/api/qiskit/0.41/qiskit.circuit.library.U3Gate). We thus have $R_y(\\theta) \\equiv U3(\\theta,0,0)$. The Hadamard can also be represented via such rotations, now as $H \\equiv U3(\\pi/2,0,\\pi)$. This decomposition brings us to our native gate set.\n",
    "\n",
    "Bloqade deploys these natively parallelizable gates via the `parallel.u` and `parallel.cz` gate representations. So let's evolve the code above one more time:"
   ]
  },
  {
   "cell_type": "code",
   "execution_count": 29,
   "id": "2f52fbda",
   "metadata": {},
   "outputs": [],
   "source": [
    "def ghz_log_simd(n: int):\n",
    "    n_qubits = int(2**n)\n",
    "\n",
    "    @qasm2.extended\n",
    "    def layer(i_layer: int, qreg: qasm2.QReg):\n",
    "        step = n_qubits // (2**i_layer)\n",
    "\n",
    "        def get_qubit(x: int):\n",
    "            return qreg[x]\n",
    "\n",
    "        ctrl_qubits = ilist.map(fn=get_qubit, collection=range(0, n_qubits, step))\n",
    "        targ_qubits = ilist.map(\n",
    "            fn=get_qubit, collection=ilist.range(step // 2, n_qubits, step)\n",
    "        )\n",
    "\n",
    "        # Ry(-pi/2)\n",
    "        qasm2.parallel.u(qargs=targ_qubits, theta=-math.pi / 2, phi=0.0, lam=0.0)\n",
    "\n",
    "        # CZ gates\n",
    "        qasm2.parallel.cz(ctrls=ctrl_qubits, qargs=targ_qubits)\n",
    "\n",
    "        # Ry(pi/2)\n",
    "        qasm2.parallel.u(qargs=targ_qubits, theta=math.pi / 2, phi=0.0, lam=0.0)\n",
    "\n",
    "    @qasm2.extended\n",
    "    def ghz_log_depth_program():\n",
    "\n",
    "        qreg = qasm2.qreg(n_qubits)\n",
    "\n",
    "        qasm2.u3(qarg=qreg[0], theta=math.pi / 2, phi=0.0, lam=math.pi)\n",
    "        for i in range(n):\n",
    "            layer(i_layer=i, qreg=qreg)\n",
    "\n",
    "    return ghz_log_depth_program"
   ]
  },
  {
   "cell_type": "markdown",
   "id": "9b9f3ccb",
   "metadata": {},
   "source": [
    "For simplicity, we used a non-parallelizable rewrite of the Hadamard, as we know we have a single one.\n",
    "\n",
    "As usual, let's look at what QASM2 gives us:"
   ]
  },
  {
   "cell_type": "code",
   "execution_count": 30,
   "id": "29789f36",
   "metadata": {},
   "outputs": [
    {
     "name": "stdout",
     "output_type": "stream",
     "text": [
      "\u001b[90mOPENQASM 2.0\u001b[0m;\n",
      "\u001b[31minclude\u001b[0m \u001b[32m\"qelib1.inc\"\u001b[0m;\n",
      "\u001b[31mqreg\u001b[0m qreg[4];\n",
      "\u001b[31mU\u001b[0m(1.5707963267948966, 0.0, 3.141592653589793) \u001b[36mqreg\u001b[0m[\u001b[39m0\u001b[0m];\n",
      "\u001b[31mU\u001b[0m(-1.5707963267948966, 0.0, 0.0) \u001b[36mqreg\u001b[0m[\u001b[39m2\u001b[0m];\n",
      "\u001b[36mcz\u001b[0m \u001b[36mqreg\u001b[0m[\u001b[39m0\u001b[0m], \u001b[36mqreg\u001b[0m[\u001b[39m2\u001b[0m];\n",
      "\u001b[31mU\u001b[0m(1.5707963267948966, 0.0, 0.0) \u001b[36mqreg\u001b[0m[\u001b[39m2\u001b[0m];\n",
      "\u001b[31mU\u001b[0m(-1.5707963267948966, 0.0, 0.0) \u001b[36mqreg\u001b[0m[\u001b[39m3\u001b[0m];\n",
      "\u001b[31mU\u001b[0m(-1.5707963267948966, 0.0, 0.0) \u001b[36mqreg\u001b[0m[\u001b[39m1\u001b[0m];\n",
      "\u001b[36mcz\u001b[0m \u001b[36mqreg\u001b[0m[\u001b[39m0\u001b[0m], \u001b[36mqreg\u001b[0m[\u001b[39m1\u001b[0m];\n",
      "\u001b[36mcz\u001b[0m \u001b[36mqreg\u001b[0m[\u001b[39m2\u001b[0m], \u001b[36mqreg\u001b[0m[\u001b[39m3\u001b[0m];\n",
      "\u001b[31mU\u001b[0m(1.5707963267948966, 0.0, 0.0) \u001b[36mqreg\u001b[0m[\u001b[39m3\u001b[0m];\n",
      "\u001b[31mU\u001b[0m(1.5707963267948966, 0.0, 0.0) \u001b[36mqreg\u001b[0m[\u001b[39m1\u001b[0m];\n"
     ]
    }
   ],
   "source": [
    "target = QASM2()\n",
    "ast = target.emit(ghz_log_simd(2))\n",
    "pprint(ast)"
   ]
  },
  {
   "cell_type": "markdown",
   "id": "849c7510",
   "metadata": {},
   "source": [
    "The above looks more complicated than before, naturally, but we are pursuing transpiling the circuit to a hardware-compatible gate set and that has constraints. The gain is that if we keep parallelism in the final circuit, we can reduce not only the logic steps to be logarithmic in the number of qubits $N$, but also the _execution_ depth of the circuit.\n",
    "\n",
    "So if feels we are going in the right direction. But nothing here indicates to the quantum computer which gates among the above can, or should, be operated in parallel. \n",
    "\n",
    "Well, in truth, the code above covers that, but we just didn't make it explicit. To do so, we have to part ways with QASM2 representations. With Bloqade, we are able to extend QASM2 into a version that can only be parsed by neutral-atom devices, and which accepts instructions to indicate parallelization. The code above already built - by hand - instructions that were deployable in parallel via the declaration of `parallel.u` and `parallel.cz` with multiple targets. These instructions come up as delimiters `{}`, but to ensure that output instructions from Bloqade won't conflict with other QASM, we omit those by default. Showing where they appear can be achieved by simply setting the `allow_parallel` boolean at `QASM2()` to `True`:"
   ]
  },
  {
   "cell_type": "code",
   "execution_count": 31,
   "id": "aa26d33d",
   "metadata": {},
   "outputs": [
    {
     "name": "stdout",
     "output_type": "stream",
     "text": [
      "\u001b[90mKIRIN {func,lowering.call,lowering.func,py.ilist,qasm2.core,qasm2.expr,qasm2.indexing,qasm2.parallel,qasm2.uop,scf}\u001b[0m;\n",
      "\u001b[31minclude\u001b[0m \u001b[32m\"qelib1.inc\"\u001b[0m;\n",
      "\u001b[31mqreg\u001b[0m qreg[4];\n",
      "\u001b[31mU\u001b[0m(1.5707963267948966, 0.0, 3.141592653589793) \u001b[36mqreg\u001b[0m[\u001b[39m0\u001b[0m];\n",
      "\u001b[31mparallel.U\u001b[0m(-1.5707963267948966, 0.0, 0.0) {\n",
      "\u001b[90m  \u001b[0m\u001b[36mqreg\u001b[0m[\u001b[39m2\u001b[0m];\n",
      "}\n",
      "\u001b[31mparallel.CZ \u001b[0m{\n",
      "\u001b[90m  \u001b[0m\u001b[36mqreg\u001b[0m[\u001b[39m0\u001b[0m], \u001b[36mqreg\u001b[0m[\u001b[39m2\u001b[0m];\n",
      "}\n",
      "\u001b[31mparallel.U\u001b[0m(1.5707963267948966, 0.0, 0.0) {\n",
      "\u001b[90m  \u001b[0m\u001b[36mqreg\u001b[0m[\u001b[39m2\u001b[0m];\n",
      "}\n",
      "\u001b[31mparallel.U\u001b[0m(-1.5707963267948966, 0.0, 0.0) {\n",
      "\u001b[90m  \u001b[0m\u001b[36mqreg\u001b[0m[\u001b[39m1\u001b[0m];\n",
      "\u001b[90m  \u001b[0m\u001b[36mqreg\u001b[0m[\u001b[39m3\u001b[0m];\n",
      "}\n",
      "\u001b[31mparallel.CZ \u001b[0m{\n",
      "\u001b[90m  \u001b[0m\u001b[36mqreg\u001b[0m[\u001b[39m0\u001b[0m], \u001b[36mqreg\u001b[0m[\u001b[39m1\u001b[0m];\n",
      "\u001b[90m  \u001b[0m\u001b[36mqreg\u001b[0m[\u001b[39m2\u001b[0m], \u001b[36mqreg\u001b[0m[\u001b[39m3\u001b[0m];\n",
      "}\n",
      "\u001b[31mparallel.U\u001b[0m(1.5707963267948966, 0.0, 0.0) {\n",
      "\u001b[90m  \u001b[0m\u001b[36mqreg\u001b[0m[\u001b[39m1\u001b[0m];\n",
      "\u001b[90m  \u001b[0m\u001b[36mqreg\u001b[0m[\u001b[39m3\u001b[0m];\n",
      "}\n"
     ]
    }
   ],
   "source": [
    "target = QASM2( allow_parallel=True)\n",
    "ast = target.emit(ghz_log_simd(2))\n",
    "pprint(ast)"
   ]
  },
  {
   "cell_type": "markdown",
   "id": "7ac73a78",
   "metadata": {},
   "source": [
    "This looks exactly like what we were looking for, albeit missing some parallelization opportunities (notice that the $R_y(-\\pi/2)$ gate on qubits 1 and 3 could have been commuted to the left of the CZ from 0 to 2, as well as to the left of the $R_y(\\pi/2)$ on qubit 2). "
   ]
  },
  {
   "cell_type": "markdown",
   "id": "bc31371b",
   "metadata": {},
   "source": [
    "## Automatic compilation\n",
    "\n",
    "We achieved what we wanted, but the process was maybe a bit too manual. Bloqade, in fact, has tools to automate the rewrite of circuits in neutral-atom-native gate sets, as well as a heuristic to improve the parallelization of a circuit. Let's learn to use these features using our GHZ state preparation example.\n",
    "\n",
    "In order to do that, we should learn a bit about dialect groups and our compilation infrastructure. By now, we have learned how our functions could be decorated with `@qasm.extended` syntax that allowed us to compose functions, use control flow, and even define parallelizable instructions for a quantum computer. This extended QASM is considered a dialect of Bloqade, a sub-language (eDSL). Now we will create our dialect group to help automate the parallelization and compilation process. For that, we use tools from our Kirin compiler toolchain and create a new compiler! Without further ado, the code below allows for the creation of what we need."
   ]
  },
  {
   "cell_type": "code",
   "execution_count": 32,
   "id": "cb714997",
   "metadata": {},
   "outputs": [],
   "source": [
    "from bloqade.qasm2.rewrite.native_gates import RydbergGateSetRewriteRule\n",
    "from kirin import ir\n",
    "from kirin.rewrite import Walk\n",
    "from bloqade.qasm2.passes import UOpToParallel, QASM2Fold\n",
    "\n",
    "\n",
    "@ir.dialect_group(qasm2.extended)\n",
    "def extended_opt(self):\n",
    "    native_rewrite = Walk(RydbergGateSetRewriteRule(self)) # use Kirin's functionality to walk code line by line while applying neutral-atom gate decomposition as defined in Bloqade\n",
    "    parallelize_pass = UOpToParallel(self) # review the code and apply parallelization using a heuristic\n",
    "    agg_fold = QASM2Fold(self) # supports parallelization by unfolding loops to search for parallelization opportunities\n",
    "\n",
    "    # here we define our new compiler pass\n",
    "    def run_pass(\n",
    "        kernel: ir.Method,\n",
    "        *,\n",
    "        fold: bool = True,\n",
    "        typeinfer: bool = True,\n",
    "        parallelize: bool = False,\n",
    "    ):\n",
    "        assert qasm2.extended.run_pass is not None\n",
    "        qasm2.extended.run_pass(kernel, fold=fold, typeinfer=typeinfer) # apply the original run_pass to the lowered kernel\n",
    "        native_rewrite.rewrite(kernel.code) # decompose all gates in the circuit to neutral atom gate set\n",
    "\n",
    "        # here goes our parallelization optimizer; the order of the commands here matters!\n",
    "        if parallelize:\n",
    "            agg_fold.fixpoint(kernel)\n",
    "            parallelize_pass(kernel)\n",
    "\n",
    "    return run_pass"
   ]
  },
  {
   "cell_type": "markdown",
   "id": "6701edb8",
   "metadata": {},
   "source": [
    "Now the process above has nothing to do with quantum computing, but everything to do with compilers. In practice, we are creating a new decorator that we can use as an interpreter for our kernels. This new decorator is itself decorated by `@ir.dialect_group(qasm2.extended)` which will define a new dialect group in `qasm2.extended`.\n",
    "\n",
    "The comments in the code identify the main steps to transpile the gate set and then run an optimizer to seek opportunities for hardware-level parallelizations. \n",
    "\n",
    "Let's see this in action. We return to our original log-depth circuit and simply decorate our functions so they are interpreted by this new compiler pass:"
   ]
  },
  {
   "cell_type": "code",
   "execution_count": 33,
   "id": "15e3e261",
   "metadata": {},
   "outputs": [],
   "source": [
    "def ghz_log_depth_2(n: int, parallelize: bool = True):\n",
    "    n_qubits = int(2**n)\n",
    "\n",
    "    @extended_opt\n",
    "    def layer_of_cx(i_layer: int, qreg: qasm2.QReg):\n",
    "        step = n_qubits // (2**i_layer)\n",
    "        for j in range(0, n_qubits, step):\n",
    "            qasm2.cx(ctrl=qreg[j], qarg=qreg[j + step // 2])\n",
    "\n",
    "\n",
    "    @extended_opt(parallelize=parallelize)\n",
    "    def ghz_log_depth_program():\n",
    "\n",
    "        qreg = qasm2.qreg(n_qubits)\n",
    "\n",
    "        qasm2.h(qreg[0])\n",
    "        for i in range(n):\n",
    "            layer_of_cx(i_layer=i, qreg=qreg)\n",
    "\n",
    "    return ghz_log_depth_program"
   ]
  },
  {
   "cell_type": "markdown",
   "id": "96b88c72",
   "metadata": {},
   "source": [
    "Note, no mentions of CZs here, and the Hadamard gate is just declared as we expect it to be from our \"pen-and-paper\" logic. Yet, when we look at the output QASM:"
   ]
  },
  {
   "cell_type": "code",
   "execution_count": 34,
   "id": "6504e30f",
   "metadata": {},
   "outputs": [
    {
     "name": "stdout",
     "output_type": "stream",
     "text": [
      "\u001b[90mKIRIN {func,lowering.call,lowering.func,py.ilist,qasm2.core,qasm2.expr,qasm2.indexing,qasm2.parallel,qasm2.uop,scf}\u001b[0m;\n",
      "\u001b[31minclude\u001b[0m \u001b[32m\"qelib1.inc\"\u001b[0m;\n",
      "\u001b[31mqreg\u001b[0m qreg[4];\n",
      "\u001b[31mU\u001b[0m(1.5707963267949, 0.0, 3.14159265358979) \u001b[36mqreg\u001b[0m[\u001b[39m0\u001b[0m];\n",
      "\u001b[31mparallel.U\u001b[0m(1.5707963267949, 3.14159265358979, 3.14159265358979) {\n",
      "\u001b[90m  \u001b[0m\u001b[36mqreg\u001b[0m[\u001b[39m2\u001b[0m];\n",
      "\u001b[90m  \u001b[0m\u001b[36mqreg\u001b[0m[\u001b[39m1\u001b[0m];\n",
      "\u001b[90m  \u001b[0m\u001b[36mqreg\u001b[0m[\u001b[39m3\u001b[0m];\n",
      "}\n",
      "\u001b[36mcz\u001b[0m \u001b[36mqreg\u001b[0m[\u001b[39m0\u001b[0m], \u001b[36mqreg\u001b[0m[\u001b[39m2\u001b[0m];\n",
      "\u001b[31mU\u001b[0m(1.5707963267949, 0.0, 0.0) \u001b[36mqreg\u001b[0m[\u001b[39m2\u001b[0m];\n",
      "\u001b[36mcz\u001b[0m \u001b[36mqreg\u001b[0m[\u001b[39m0\u001b[0m], \u001b[36mqreg\u001b[0m[\u001b[39m1\u001b[0m];\n",
      "\u001b[31mU\u001b[0m(1.5707963267949, 0.0, 0.0) \u001b[36mqreg\u001b[0m[\u001b[39m1\u001b[0m];\n",
      "\u001b[36mcz\u001b[0m \u001b[36mqreg\u001b[0m[\u001b[39m2\u001b[0m], \u001b[36mqreg\u001b[0m[\u001b[39m3\u001b[0m];\n",
      "\u001b[31mU\u001b[0m(1.5707963267949, 0.0, 0.0) \u001b[36mqreg\u001b[0m[\u001b[39m3\u001b[0m];\n"
     ]
    }
   ],
   "source": [
    "import warnings\n",
    "warnings.filterwarnings(\"ignore\")\n",
    "\n",
    "target = qasm2.emit.QASM2(\n",
    "    allow_parallel=True,\n",
    ")\n",
    "ast = target.emit(ghz_log_depth_2(2, parallelize=True))\n",
    "qasm2.parse.pprint(ast)"
   ]
  },
  {
   "cell_type": "markdown",
   "id": "d7356a18",
   "metadata": {},
   "source": [
    "This is not too bad! $U3(\\pi/2,\\pi,\\pi)$ is nothing but another way of writing $R_y(-\\pi/2)$ and the $2\\pi$ angles can really be just ignored; they result from numerics and are effectivly the same as 0. $U3(\\pi/2,0,\\pi)$ is still our Hadamard.\n",
    "\n",
    "We also achieve some degree of parallelization via our greedy optimizer. The three $R_y(-\\pi/2)$ sit nicely together between our braces and the circuit is indeed valid. But we are missing out on several opportunities: the CZs are not coming together as they should, and this circuit is also missing on aligning the final layer of $R_y(\\pi/2)$ that can be deployed together. So we still got some work to do!\n",
    "\n",
    "## Barriers for the win\n",
    "\n",
    "To help our greedy optimizer ensure that it will generate circuits satisfying certain rules that we know are desirable for a given implementation, we can deploy barriers. In our case, we define barriers between groups of compatible CNOT gates, and then just deploy our new compiler pass as before:"
   ]
  },
  {
   "cell_type": "code",
   "execution_count": 35,
   "id": "f1848b1e",
   "metadata": {},
   "outputs": [],
   "source": [
    "def ghz_log_depth_3(n: int):\n",
    "    n_qubits = int(2**n)\n",
    "\n",
    "    @extended_opt\n",
    "    def layer_of_cx(i_layer: int, qreg: qasm2.QReg):\n",
    "        step = n_qubits // (2**i_layer)\n",
    "        for j in range(0, n_qubits, step):\n",
    "            qasm2.cx(ctrl=qreg[j], qarg=qreg[j + step // 2])\n",
    "            qasm2.barrier((qreg[j], qreg[j + step // 2]))\n",
    "\n",
    "\n",
    "    @extended_opt(parallelize=True)\n",
    "    def ghz_log_depth_program():\n",
    "\n",
    "        qreg = qasm2.qreg(n_qubits)\n",
    "\n",
    "        qasm2.h(qreg[0])\n",
    "        for i in range(n):\n",
    "            layer_of_cx(i_layer=i, qreg=qreg)\n",
    "\n",
    "    return ghz_log_depth_program"
   ]
  },
  {
   "cell_type": "markdown",
   "id": "b3d6ebcb",
   "metadata": {},
   "source": [
    "And checking the outcome,"
   ]
  },
  {
   "cell_type": "code",
   "execution_count": 36,
   "id": "3fcabb32",
   "metadata": {},
   "outputs": [
    {
     "name": "stdout",
     "output_type": "stream",
     "text": [
      "\u001b[90mKIRIN {func,lowering.call,lowering.func,py.ilist,qasm2.core,qasm2.expr,qasm2.indexing,qasm2.parallel,qasm2.uop,scf}\u001b[0m;\n",
      "\u001b[31minclude\u001b[0m \u001b[32m\"qelib1.inc\"\u001b[0m;\n",
      "\u001b[31mqreg\u001b[0m qreg[4];\n",
      "\u001b[31mU\u001b[0m(1.5707963267949, 0.0, 3.14159265358979) \u001b[36mqreg\u001b[0m[\u001b[39m0\u001b[0m];\n",
      "\u001b[31mparallel.U\u001b[0m(1.5707963267949, 3.14159265358979, 3.14159265358979) {\n",
      "\u001b[90m  \u001b[0m\u001b[36mqreg\u001b[0m[\u001b[39m2\u001b[0m];\n",
      "\u001b[90m  \u001b[0m\u001b[36mqreg\u001b[0m[\u001b[39m1\u001b[0m];\n",
      "\u001b[90m  \u001b[0m\u001b[36mqreg\u001b[0m[\u001b[39m3\u001b[0m];\n",
      "}\n",
      "\u001b[36mcz\u001b[0m \u001b[36mqreg\u001b[0m[\u001b[39m0\u001b[0m], \u001b[36mqreg\u001b[0m[\u001b[39m2\u001b[0m];\n",
      "\u001b[31mU\u001b[0m(1.5707963267949, 0.0, 0.0) \u001b[36mqreg\u001b[0m[\u001b[39m2\u001b[0m];\n",
      "\u001b[31mbarrier\u001b[0m \u001b[36mqreg\u001b[0m[\u001b[39m0\u001b[0m], \u001b[36mqreg\u001b[0m[\u001b[39m2\u001b[0m];\n",
      "\u001b[31mparallel.CZ \u001b[0m{\n",
      "\u001b[90m  \u001b[0m\u001b[36mqreg\u001b[0m[\u001b[39m0\u001b[0m], \u001b[36mqreg\u001b[0m[\u001b[39m1\u001b[0m];\n",
      "\u001b[90m  \u001b[0m\u001b[36mqreg\u001b[0m[\u001b[39m2\u001b[0m], \u001b[36mqreg\u001b[0m[\u001b[39m3\u001b[0m];\n",
      "}\n",
      "\u001b[31mparallel.U\u001b[0m(1.5707963267949, 0.0, 0.0) {\n",
      "\u001b[90m  \u001b[0m\u001b[36mqreg\u001b[0m[\u001b[39m1\u001b[0m];\n",
      "\u001b[90m  \u001b[0m\u001b[36mqreg\u001b[0m[\u001b[39m3\u001b[0m];\n",
      "}\n",
      "\u001b[31mbarrier\u001b[0m \u001b[36mqreg\u001b[0m[\u001b[39m0\u001b[0m], \u001b[36mqreg\u001b[0m[\u001b[39m1\u001b[0m], \u001b[36mqreg\u001b[0m[\u001b[39m2\u001b[0m], \u001b[36mqreg\u001b[0m[\u001b[39m3\u001b[0m];\n"
     ]
    }
   ],
   "source": [
    "target = qasm2.emit.QASM2(\n",
    "    allow_parallel=True,\n",
    ")\n",
    "ast = target.emit(ghz_log_depth_3(2))\n",
    "qasm2.parse.pprint(ast)"
   ]
  },
  {
   "cell_type": "markdown",
   "id": "29ba60b4",
   "metadata": {},
   "source": [
    "Now we got it! The barriers go in the right places, operations are being combined in a way that maximizes parallelization, and the circuit is written in terms of native gates only! We achieved log-depth performance that can be deployed in neutral-atom quantum hardware!"
   ]
  },
  {
   "cell_type": "markdown",
   "id": "23b3764b",
   "metadata": {},
   "source": [
    "## Running the qubit simulator\n",
    "\n",
    "Let's check how well this works. We use the `bloqade-pyqrack` package to run a qubit simulator alongside `bloqade`. \n",
    "\n",
    "(For installation instructions please read the [README](https://github.com/QuEraComputing/bloqade-pyqrack?tab=readme-ov-file#which-extra-do-i-install) of bloqade-pyqrack. As a note Mac OS doesn't support OpenCL but some systems do support CUDA.)\n",
    "\n",
    "To run the simulation, we finish our QASM program by including measurement instructions."
   ]
  },
  {
   "cell_type": "code",
   "execution_count": 37,
   "id": "a5b2fc1e",
   "metadata": {},
   "outputs": [],
   "source": [
    "def ghz_log_depth(n: int, parallelize: bool = True):\n",
    "    n_qubits = int(2**n)\n",
    "\n",
    "    @extended_opt\n",
    "    def layer_of_cx(i_layer: int, qreg: qasm2.QReg):\n",
    "        step = n_qubits // (2**i_layer)\n",
    "        for j in range(0, n_qubits, step):\n",
    "            qasm2.cx(ctrl=qreg[j], qarg=qreg[j + step // 2])\n",
    "            qasm2.barrier((qreg[j], qreg[j + step // 2]))\n",
    "\n",
    "\n",
    "    @extended_opt(parallelize=parallelize)\n",
    "    def ghz_log_depth_program():\n",
    "\n",
    "        qreg = qasm2.qreg(n_qubits)\n",
    "        creg = qasm2.creg(n_qubits)\n",
    "\n",
    "        qasm2.h(qreg[0])\n",
    "        for i in range(n):\n",
    "            layer_of_cx(i_layer=i, qreg=qreg)\n",
    "            \n",
    "        for i in range(n_qubits):\n",
    "            qasm2.measure(qreg[i],creg[i])\n",
    "            \n",
    "        return creg # return classical register for simulation.\n",
    "\n",
    "    return ghz_log_depth_program\n",
    "\n",
    "\n",
    "kernel = ghz_log_depth(2, parallelize=False)"
   ]
  },
  {
   "cell_type": "markdown",
   "id": "37b4feb8",
   "metadata": {},
   "source": [
    "and now we activate our simulation pipeline"
   ]
  },
  {
   "cell_type": "code",
   "execution_count": 38,
   "id": "c6c9dc00",
   "metadata": {},
   "outputs": [
    {
     "name": "stdout",
     "output_type": "stream",
     "text": [
      "0000 52\n",
      "1111 48\n"
     ]
    }
   ],
   "source": [
    "from bloqade.pyqrack import PyQrack\n",
    "from collections import Counter\n",
    "\n",
    "device = PyQrack(dynamic_qubits=True, pyqrack_options={\"isBinaryDecisionTree\": False})\n",
    "results = device.multi_run(kernel, _shots=100)\n",
    "\n",
    "def to_bitstrings(results):\n",
    "    return Counter(map(lambda result:\"\".join(map(str, result)), results))\n",
    "\n",
    "counts = to_bitstrings(results)\n",
    "\n",
    "for key, value in counts.items():\n",
    "    print(key, value)"
   ]
  },
  {
   "cell_type": "markdown",
   "id": "02fdb298",
   "metadata": {},
   "source": [
    "In this case we are just sampling the circuit and the results seem pretty good!"
   ]
  },
  {
   "cell_type": "markdown",
   "id": "fd756333",
   "metadata": {},
   "source": [
    "## Adding Noise to the simulation\n",
    "\n",
    "To wrap up, Bloqade accepts the definition of a heuristic noise model via `NoisePass`. This allows you to inject noise based on the gate type via specific noise parameters. You can even incorporate the injection extra noise due to atom moving (for example in current hardware CZ gates). Bloqade already contains a basic model based on some very simple heuristics and a two row zone layout for the storage and the gate zones implemented by default in `NoisePass`. "
   ]
  },
  {
   "cell_type": "code",
   "execution_count": 39,
   "id": "ae82442c",
   "metadata": {},
   "outputs": [],
   "source": [
    "from bloqade.qasm2.passes import NoisePass\n",
    "from bloqade.noise import native\n",
    "\n",
    "# add noise\n",
    "noise_kernel = kernel.similar()\n",
    "extended_opt.run_pass(noise_kernel, parallelize=True)\n",
    "NoisePass(extended_opt)(noise_kernel)\n",
    "\n",
    "noise_kernel = noise_kernel.similar(extended_opt.add(native))"
   ]
  },
  {
   "cell_type": "markdown",
   "id": "a7c5ab64",
   "metadata": {},
   "source": [
    "And now running the simulation:"
   ]
  },
  {
   "cell_type": "code",
   "execution_count": 40,
   "id": "1e8a6643",
   "metadata": {},
   "outputs": [
    {
     "name": "stdout",
     "output_type": "stream",
     "text": [
      "1111 48\n",
      "0100 2\n",
      "0011 1\n",
      "0000 43\n",
      "1100 3\n",
      "1011 1\n",
      "1110 1\n",
      "1000 1\n"
     ]
    }
   ],
   "source": [
    "device = PyQrack(dynamic_qubits=True, pyqrack_options={\"isBinaryDecisionTree\": False})\n",
    "results = device.multi_run(noise_kernel, _shots=100)\n",
    "\n",
    "\n",
    "counts = to_bitstrings(results)\n",
    "\n",
    "for key, value in counts.items():\n",
    "    print(key, value)"
   ]
  },
  {
   "cell_type": "markdown",
   "id": "a6721c18",
   "metadata": {},
   "source": [
    "As expected, we start leaking out of the GHZ subspace. Let's evaluate the performance of this circuit via a simple fidelity estimator. \n",
    "\n",
    "Computing the fidelity between two states with a quantum computer requires extracting the (mixed) state generated via tomography and comparing that against a ground truth. For the current purposes, we will just run simulations, so our life is easier. \n",
    "\n",
    "First, we remove the measurement gates from our kernel, to ensure we will have the full state vector without sampling"
   ]
  },
  {
   "cell_type": "code",
   "execution_count": 41,
   "id": "9429947c",
   "metadata": {},
   "outputs": [],
   "source": [
    "def ghz_log_depth(n: int, parallelize: bool = True):\n",
    "    n_qubits = int(2**n)\n",
    "\n",
    "    @extended_opt\n",
    "    def layer_of_cx(i_layer: int, qreg: qasm2.QReg):\n",
    "        step = n_qubits // (2**i_layer)\n",
    "        for j in range(0, n_qubits, step):\n",
    "            qasm2.cx(ctrl=qreg[j], qarg=qreg[j + step // 2])\n",
    "            qasm2.barrier((qreg[j], qreg[j + step // 2]))\n",
    "\n",
    "\n",
    "    @extended_opt(parallelize=parallelize)\n",
    "    def ghz_log_depth_program():\n",
    "\n",
    "        qreg = qasm2.qreg(n_qubits)\n",
    "        creg = qasm2.creg(n_qubits)\n",
    "\n",
    "        qasm2.h(qreg[0])\n",
    "        for i in range(n):\n",
    "            layer_of_cx(i_layer=i, qreg=qreg)\n",
    "            \n",
    "        return qreg # return quantum registers from simulation\n",
    "\n",
    "    return ghz_log_depth_program\n",
    "\n",
    "\n",
    "kernel = ghz_log_depth(2, parallelize=False)"
   ]
  },
  {
   "cell_type": "markdown",
   "id": "bfdda071",
   "metadata": {},
   "source": [
    "Now we establish the base truth by running our PyQrack simulator without specifying shots. We extract the state vector from the run using `sim_reg.out_ket()`"
   ]
  },
  {
   "cell_type": "code",
   "execution_count": 42,
   "id": "b4655976",
   "metadata": {},
   "outputs": [
    {
     "name": "stdout",
     "output_type": "stream",
     "text": [
      "[(-0.6193630695343018-0.341158390045166j), (1.1549944333599403e-15+1.3496040646398784e-15j), (-2.2642598906941203e-08+1.9377591087277324e-08j), (-3.030314843499582e-08+3.286518079903544e-08j), (3.552713678800501e-15+0j), (8.881784197001252e-16+8.881784197001252e-16j), (5.293955920339377e-23-5.293955920339377e-23j), (-2.9802322387695312e-08+2.9802322387695312e-08j), (-2.9802322387695312e-08+2.9802322387695312e-08j), (5.293955920339377e-23-5.293955920339377e-23j), (8.881784197001252e-16+8.881784197001252e-16j), (3.552713678800501e-15+0j), (-3.030314843499582e-08+3.286518079903544e-08j), (-2.2642598906941203e-08+1.9377591087277324e-08j), (1.1549944333599403e-15+1.3496040646398784e-15j), (-0.6193630695343018-0.341158390045166j)]\n"
     ]
    }
   ],
   "source": [
    "from bloqade.pyqrack import PyQrack\n",
    "from collections import Counter\n",
    "\n",
    "device = PyQrack(dynamic_qubits=True, pyqrack_options={\"isBinaryDecisionTree\": False})\n",
    "reg = device.run(kernel)\n",
    "\n",
    "qubit = reg[0] #  Note funny behavior: to access state vec must pick a specific reg entry\n",
    "ghz_baseline = qubit.sim_reg.out_ket()\n",
    "print(ghz_baseline)\n"
   ]
  },
  {
   "cell_type": "markdown",
   "id": "a82d8eef",
   "metadata": {},
   "source": [
    "Now we run the noisy version of the simulation. Since we changed our kernel to remove the measurement gates, let's first transform the new kernel with the noise pass as before"
   ]
  },
  {
   "cell_type": "code",
   "execution_count": 43,
   "id": "feaaa4e1",
   "metadata": {},
   "outputs": [],
   "source": [
    "# add noise\n",
    "noise_kernel = kernel.similar()\n",
    "extended_opt.run_pass(noise_kernel, parallelize=True)\n",
    "NoisePass(extended_opt)(noise_kernel)\n",
    "\n",
    "noise_kernel = noise_kernel.similar(extended_opt.add(native))"
   ]
  },
  {
   "cell_type": "markdown",
   "id": "3dca5d02",
   "metadata": {},
   "source": [
    "And now we run our noisy simulations. Because of the noise trajectories, this time we do have to repeat the simulation many times"
   ]
  },
  {
   "cell_type": "code",
   "execution_count": 44,
   "id": "1245edd6",
   "metadata": {},
   "outputs": [],
   "source": [
    "shots=10000\n",
    "\n",
    "ghz_noisy = [\n",
    "    reg[0].sim_reg.out_ket() \n",
    "    for reg in device.multi_run(noise_kernel, _shots=shots)\n",
    "    ]\n"
   ]
  },
  {
   "cell_type": "markdown",
   "id": "b8fdae08",
   "metadata": {},
   "source": [
    "And finally, we compute the fidelity by averaging the modulus square of the overlap across many shots"
   ]
  },
  {
   "cell_type": "code",
   "execution_count": 45,
   "id": "1edf2846",
   "metadata": {},
   "outputs": [
    {
     "name": "stdout",
     "output_type": "stream",
     "text": [
      "0.9494741245235883\n"
     ]
    }
   ],
   "source": [
    "import numpy as np\n",
    "fidelity = 0\n",
    "for i in range(shots):\n",
    "    fidelity = fidelity + np.abs(np.vdot(ghz_noisy[i],ghz_baseline))**2\n",
    "\n",
    "fidelity = fidelity/shots\n",
    "print(fidelity)"
   ]
  },
  {
   "cell_type": "markdown",
   "id": "7a366e85",
   "metadata": {},
   "source": [
    "This wraps up our tutorial!"
   ]
  }
 ],
 "metadata": {
  "jupytext": {
   "cell_metadata_filter": "-all",
   "main_language": "python",
   "notebook_metadata_filter": "-all"
  },
  "kernelspec": {
   "display_name": ".venv",
   "language": "python",
   "name": "python3"
  },
  "language_info": {
   "codemirror_mode": {
    "name": "ipython",
    "version": 3
   },
   "file_extension": ".py",
   "mimetype": "text/x-python",
   "name": "python",
   "nbconvert_exporter": "python",
   "pygments_lexer": "ipython3",
   "version": "3.10.9"
  }
 },
 "nbformat": 4,
 "nbformat_minor": 5
}
