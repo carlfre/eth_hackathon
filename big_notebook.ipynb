{
 "cells": [
  {
   "cell_type": "code",
   "execution_count": null,
   "id": "dd00a861",
   "metadata": {},
   "outputs": [],
   "source": [
    "from pathlib import Path\n",
    "import pylatexenc\n",
    "\n",
    "# path to wherever Jupyter is launched from\n",
    "project_root = Path.cwd()  \n",
    "\n",
    "# now build a path to .qasm files\n",
    "qasm_dir   = project_root / \"assets\" / \"baseline\" #r\"\\Student\\Desktop\\Hackathon\\Qasm files\"\n",
    "qasm_file_paths = sorted(qasm_dir.glob(\"*.qasm\"))\n",
    "\n",
    "\n",
    "if not qasm_file_paths:\n",
    "    raise FileNotFoundError(f\"No .qasm files found in {qasm_dir}\")"
   ]
  },
  {
   "cell_type": "code",
   "execution_count": null,
   "id": "f483ab4f",
   "metadata": {},
   "outputs": [
    {
     "name": "stdout",
     "output_type": "stream",
     "text": [
      "→ /home/carlfre/hackathons/eth_hackathon/assets/baseline/0.1.qasm parsed & lowered: Method(\"0.1\")\n",
      "→ /home/carlfre/hackathons/eth_hackathon/assets/baseline/0.2.qasm parsed & lowered: Method(\"0.2\")\n",
      "→ /home/carlfre/hackathons/eth_hackathon/assets/baseline/0.4.qasm parsed & lowered: Method(\"0.4\")\n",
      "→ /home/carlfre/hackathons/eth_hackathon/assets/baseline/1.qasm parsed & lowered: Method(\"1\")\n",
      "→ /home/carlfre/hackathons/eth_hackathon/assets/baseline/2.qasm parsed & lowered: Method(\"2\")\n",
      "→ /home/carlfre/hackathons/eth_hackathon/assets/baseline/3.qasm parsed & lowered: Method(\"3\")\n",
      "→ /home/carlfre/hackathons/eth_hackathon/assets/baseline/4.qasm parsed & lowered: Method(\"4\")\n"
     ]
    }
   ],
   "source": [
    "from bloqade import qasm2\n",
    "from bloqade.qasm2.parse.lowering import QASM2\n",
    "from bloqade.qasm2.passes import QASM2Py\n",
    "\n",
    "# parse & lower each one\n",
    "programs = {}\n",
    "for path in qasm_file_paths:\n",
    "    prog = QASM2(qasm2.main).loadfile(file=path)\n",
    "\n",
    "    \"\"\"\n",
    "    reinterpret into Bloqade's parallelization-friendly intermediate representation. \n",
    "    Similar behaviour could have been obtained by just using qasm2.extended above\n",
    "    \"\"\"\n",
    "    QASM2Py(prog.dialects)(prog)\n",
    "    prog_extended = prog.similar(qasm2.extended)\n",
    "\n",
    "    programs[Path(path).stem] = prog\n",
    "    prog_extended = prog\n",
    "    print(f\"→ {path} parsed & lowered: {prog}\")\n",
    "\n",
    "# `programs` now holds each file’s lowered IR under its filename-stem."
   ]
  },
  {
   "cell_type": "code",
   "execution_count": null,
   "id": "8b38189b",
   "metadata": {},
   "outputs": [],
   "source": [
    "import qiskit\n",
    "from kirin import ir\n",
    "from qiskit import QuantumCircuit\n",
    "\n",
    "from bloqade.qasm2.rewrite.native_gates import RydbergGateSetRewriteRule\n",
    "from kirin import ir\n",
    "from kirin.rewrite import Walk\n",
    "from bloqade.qasm2.passes import UOpToParallel, QASM2Fold\n",
    "\n",
    "\n",
    "@ir.dialect_group(qasm2.extended)\n",
    "def extended_opt(self):\n",
    "    native_rewrite = Walk(RydbergGateSetRewriteRule(self)) # use Kirin's functionality to walk code line by line while applying neutral-atom gate decomposition as defined in Bloqade\n",
    "    parallelize_pass = UOpToParallel(self) # review the code and apply parallelization using a heuristic\n",
    "    agg_fold = QASM2Fold(self) # supports parallelization by unfolding loops to search for parallelization opportunities\n",
    "\n",
    "    # here we define our new compiler pass\n",
    "    def run_pass(\n",
    "        kernel: ir.Method,\n",
    "        *,\n",
    "        fold: bool = True,\n",
    "        typeinfer: bool = True,\n",
    "        parallelize: bool = False,\n",
    "    ):\n",
    "        assert qasm2.extended.run_pass is not None\n",
    "        qasm2.extended.run_pass(kernel, fold=fold, typeinfer=typeinfer) # apply the original run_pass to the lowered kernel\n",
    "        native_rewrite.rewrite(kernel.code) # decompose all gates in the circuit to neutral atom gate set\n",
    "\n",
    "        # here goes our parallelization optimizer; the order of the commands here matters!\n",
    "        if parallelize:\n",
    "            agg_fold.fixpoint(kernel)\n",
    "            parallelize_pass(kernel)\n",
    "\n",
    "    return run_pass\n",
    "\n",
    "\n",
    "# helper to go from Method → Qiskit\n",
    "def method_to_qiskit(method: ir.Method, *,parallelize: bool = True) -> QuantumCircuit:\n",
    "    # run extended pass in case forgot\n",
    "    # extended_opt.run_pass(method, parallelize=parallelize)\n",
    "    # emit OpenQASM2 text\n",
    "    qasm = QASM2().emit_str(method)\n",
    "    # parse into a Qiskit circuit\n",
    "    return QuantumCircuit.from_qasm_str(qasm)"
   ]
  },
  {
   "cell_type": "code",
   "execution_count": null,
   "id": "09e0ff7e",
   "metadata": {},
   "outputs": [],
   "source": [
    "from bloqade.qasm2.emit import QASM2 # the QASM2 target\n",
    "from bloqade.qasm2.parse import pprint # the QASM2 pretty printer\n",
    "\n",
    "\n",
    "def write_to_qasm_file(circuit, filename):\n",
    "    with open(filename, \"w\") as f:\n",
    "        qasm_object = QASM2()\n",
    "        qasm_string = qasm_object.emit_str(circuit)\n",
    "        f.write(qasm_string)\n",
    "\n",
    "        \n",
    "target = QASM2(allow_parallel=True)"
   ]
  },
  {
   "cell_type": "code",
   "execution_count": null,
   "id": "5e595042",
   "metadata": {},
   "outputs": [
    {
     "name": "stdout",
     "output_type": "stream",
     "text": [
      "\u001b[90mKIRIN {func,lowering.call,lowering.func,py.ilist,qasm2.core,qasm2.expr,qasm2.indexing,qasm2.parallel,qasm2.uop,scf}\u001b[0m;\n",
      "\u001b[31minclude\u001b[0m \u001b[32m\"qelib1.inc\"\u001b[0m;\n",
      "\u001b[31mqreg\u001b[0m var_0[3];\n",
      "\u001b[36mh\u001b[0m \u001b[36mvar_0\u001b[0m[\u001b[39m2\u001b[0m];\n",
      "\u001b[31mCX\u001b[0m \u001b[36mvar_0\u001b[0m[\u001b[39m1\u001b[0m], \u001b[36mvar_0\u001b[0m[\u001b[39m2\u001b[0m];\n",
      "\u001b[31mU\u001b[0m(0.0, (3.141592653589793\u001b[31m * \u001b[0m1.25), (3.141592653589793\u001b[31m * \u001b[0m0.5)) \u001b[36mvar_0\u001b[0m[\u001b[39m2\u001b[0m];\n",
      "\u001b[31mCX\u001b[0m \u001b[36mvar_0\u001b[0m[\u001b[39m1\u001b[0m], \u001b[36mvar_0\u001b[0m[\u001b[39m2\u001b[0m];\n",
      "\u001b[31mU\u001b[0m(0.0, (3.141592653589793\u001b[31m * \u001b[0m1.75), (3.141592653589793\u001b[31m * \u001b[0m0.5)) \u001b[36mvar_0\u001b[0m[\u001b[39m2\u001b[0m];\n",
      "\u001b[31mCX\u001b[0m \u001b[36mvar_0\u001b[0m[\u001b[39m0\u001b[0m], \u001b[36mvar_0\u001b[0m[\u001b[39m2\u001b[0m];\n",
      "\u001b[31mU\u001b[0m(0.0, (3.141592653589793\u001b[31m * \u001b[0m1.375), (3.141592653589793\u001b[31m * \u001b[0m0.5)) \u001b[36mvar_0\u001b[0m[\u001b[39m2\u001b[0m];\n",
      "\u001b[31mCX\u001b[0m \u001b[36mvar_0\u001b[0m[\u001b[39m0\u001b[0m], \u001b[36mvar_0\u001b[0m[\u001b[39m2\u001b[0m];\n",
      "\u001b[31mU\u001b[0m(0.0, (3.141592653589793\u001b[31m * \u001b[0m1.625), (3.141592653589793\u001b[31m * \u001b[0m0.5)) \u001b[36mvar_0\u001b[0m[\u001b[39m2\u001b[0m];\n",
      "\u001b[36mh\u001b[0m \u001b[36mvar_0\u001b[0m[\u001b[39m1\u001b[0m];\n",
      "\u001b[31mCX\u001b[0m \u001b[36mvar_0\u001b[0m[\u001b[39m0\u001b[0m], \u001b[36mvar_0\u001b[0m[\u001b[39m1\u001b[0m];\n",
      "\u001b[31mU\u001b[0m(0.0, (3.141592653589793\u001b[31m * \u001b[0m1.25), (3.141592653589793\u001b[31m * \u001b[0m0.5)) \u001b[36mvar_0\u001b[0m[\u001b[39m1\u001b[0m];\n",
      "\u001b[31mCX\u001b[0m \u001b[36mvar_0\u001b[0m[\u001b[39m0\u001b[0m], \u001b[36mvar_0\u001b[0m[\u001b[39m1\u001b[0m];\n",
      "\u001b[31mU\u001b[0m(0.0, (3.141592653589793\u001b[31m * \u001b[0m1.75), (3.141592653589793\u001b[31m * \u001b[0m0.5)) \u001b[36mvar_0\u001b[0m[\u001b[39m1\u001b[0m];\n",
      "\u001b[36mh\u001b[0m \u001b[36mvar_0\u001b[0m[\u001b[39m0\u001b[0m];\n"
     ]
    }
   ],
   "source": [
    "challenge = \"1\"\n",
    "program_ast = target.emit(programs[challenge])\n",
    "pprint(program_ast)"
   ]
  },
  {
   "cell_type": "code",
   "execution_count": null,
   "id": "75e2633b",
   "metadata": {},
   "outputs": [],
   "source": [
    "import warnings\n",
    "warnings.filterwarnings(\"ignore\")\n",
    "\n",
    "from bloqade.qasm2.rewrite.native_gates import RydbergGateSetRewriteRule\n",
    "from kirin.rewrite import Walk\n",
    "\n",
    "\n",
    "circuit = programs[challenge]"
   ]
  },
  {
   "cell_type": "code",
   "execution_count": null,
   "id": "6d6f086c",
   "metadata": {},
   "outputs": [
    {
     "name": "stdout",
     "output_type": "stream",
     "text": [
      "\u001b[90mKIRIN {func,lowering.call,lowering.func,py.ilist,qasm2.core,qasm2.expr,qasm2.indexing,qasm2.parallel,qasm2.uop,scf}\u001b[0m;\n",
      "\u001b[31minclude\u001b[0m \u001b[32m\"qelib1.inc\"\u001b[0m;\n",
      "\u001b[31mqreg\u001b[0m var_0[3];\n",
      "\u001b[36mh\u001b[0m \u001b[36mvar_0\u001b[0m[\u001b[39m2\u001b[0m];\n",
      "\u001b[31mCX\u001b[0m \u001b[36mvar_0\u001b[0m[\u001b[39m1\u001b[0m], \u001b[36mvar_0\u001b[0m[\u001b[39m2\u001b[0m];\n",
      "\u001b[31mU\u001b[0m(0.0, (3.141592653589793\u001b[31m * \u001b[0m1.25), (3.141592653589793\u001b[31m * \u001b[0m0.5)) \u001b[36mvar_0\u001b[0m[\u001b[39m2\u001b[0m];\n",
      "\u001b[31mCX\u001b[0m \u001b[36mvar_0\u001b[0m[\u001b[39m1\u001b[0m], \u001b[36mvar_0\u001b[0m[\u001b[39m2\u001b[0m];\n",
      "\u001b[31mU\u001b[0m(0.0, (3.141592653589793\u001b[31m * \u001b[0m1.75), (3.141592653589793\u001b[31m * \u001b[0m0.5)) \u001b[36mvar_0\u001b[0m[\u001b[39m2\u001b[0m];\n",
      "\u001b[31mCX\u001b[0m \u001b[36mvar_0\u001b[0m[\u001b[39m0\u001b[0m], \u001b[36mvar_0\u001b[0m[\u001b[39m2\u001b[0m];\n",
      "\u001b[31mU\u001b[0m(0.0, (3.141592653589793\u001b[31m * \u001b[0m1.375), (3.141592653589793\u001b[31m * \u001b[0m0.5)) \u001b[36mvar_0\u001b[0m[\u001b[39m2\u001b[0m];\n",
      "\u001b[31mCX\u001b[0m \u001b[36mvar_0\u001b[0m[\u001b[39m0\u001b[0m], \u001b[36mvar_0\u001b[0m[\u001b[39m2\u001b[0m];\n",
      "\u001b[31mU\u001b[0m(0.0, (3.141592653589793\u001b[31m * \u001b[0m1.625), (3.141592653589793\u001b[31m * \u001b[0m0.5)) \u001b[36mvar_0\u001b[0m[\u001b[39m2\u001b[0m];\n",
      "\u001b[36mh\u001b[0m \u001b[36mvar_0\u001b[0m[\u001b[39m1\u001b[0m];\n",
      "\u001b[31mCX\u001b[0m \u001b[36mvar_0\u001b[0m[\u001b[39m0\u001b[0m], \u001b[36mvar_0\u001b[0m[\u001b[39m1\u001b[0m];\n",
      "\u001b[31mU\u001b[0m(0.0, (3.141592653589793\u001b[31m * \u001b[0m1.25), (3.141592653589793\u001b[31m * \u001b[0m0.5)) \u001b[36mvar_0\u001b[0m[\u001b[39m1\u001b[0m];\n",
      "\u001b[31mCX\u001b[0m \u001b[36mvar_0\u001b[0m[\u001b[39m0\u001b[0m], \u001b[36mvar_0\u001b[0m[\u001b[39m1\u001b[0m];\n",
      "\u001b[31mU\u001b[0m(0.0, (3.141592653589793\u001b[31m * \u001b[0m1.75), (3.141592653589793\u001b[31m * \u001b[0m0.5)) \u001b[36mvar_0\u001b[0m[\u001b[39m1\u001b[0m];\n",
      "\u001b[36mh\u001b[0m \u001b[36mvar_0\u001b[0m[\u001b[39m0\u001b[0m];\n"
     ]
    },
    {
     "data": {
      "image/png": "[encoded data removed]",
      "text/plain": [
       "<Figure size 2867.17x483.272 with 1 Axes>"
      ]
     },
     "metadata": {},
     "output_type": "display_data"
    }
   ],
   "source": [
    "native_gates_unoptimized_ast = target.emit(circuit)\n",
    "pprint(native_gates_unoptimized_ast)\n",
    "qc = method_to_qiskit(circuit)\n",
    "#print(qc.draw(output=\"text\"))\n",
    "fig = qc.draw(output=\"mpl\", fold=120, scale=1.7)\n",
    "display(fig)   # in a Jupyter notebook"
   ]
  },
  {
   "cell_type": "markdown",
   "id": "e2a5c76e",
   "metadata": {},
   "source": [
    "## Starts again but now overwrites circuit with parallelisation"
   ]
  },
  {
   "cell_type": "code",
   "execution_count": null,
   "id": "3e56ec0f",
   "metadata": {},
   "outputs": [
    {
     "name": "stdout",
     "output_type": "stream",
     "text": [
      "→ /home/carlfre/hackathons/eth_hackathon/assets/baseline/0.1.qasm parsed & lowered: Method(\"0.1\")\n",
      "→ /home/carlfre/hackathons/eth_hackathon/assets/baseline/0.2.qasm parsed & lowered: Method(\"0.2\")\n",
      "→ /home/carlfre/hackathons/eth_hackathon/assets/baseline/0.4.qasm parsed & lowered: Method(\"0.4\")\n",
      "→ /home/carlfre/hackathons/eth_hackathon/assets/baseline/1.qasm parsed & lowered: Method(\"1\")\n",
      "→ /home/carlfre/hackathons/eth_hackathon/assets/baseline/2.qasm parsed & lowered: Method(\"2\")\n",
      "→ /home/carlfre/hackathons/eth_hackathon/assets/baseline/3.qasm parsed & lowered: Method(\"3\")\n",
      "→ /home/carlfre/hackathons/eth_hackathon/assets/baseline/4.qasm parsed & lowered: Method(\"4\")\n"
     ]
    }
   ],
   "source": [
    "from bloqade import qasm2\n",
    "from bloqade.qasm2.parse.lowering import QASM2\n",
    "from bloqade.qasm2.passes import QASM2Py\n",
    "\n",
    "# parse & lower each one\n",
    "programs = {}\n",
    "for path in qasm_file_paths:\n",
    "    prog = QASM2(qasm2.main).loadfile(file=path)\n",
    "\n",
    "    \"\"\"\n",
    "    reinterpret into Bloqade's parallelization-friendly intermediate representation. \n",
    "    Similar behaviour could have been obtained by just using qasm2.extended above\n",
    "    \"\"\"\n",
    "    QASM2Py(prog.dialects)(prog)\n",
    "    prog = prog.similar(qasm2.extended)\n",
    "\n",
    "    programs[Path(path).stem] = prog\n",
    "    print(f\"→ {path} parsed & lowered: {prog}\")\n",
    "\n",
    "# `programs` now holds each file’s lowered IR under its filename-stem.\n"
   ]
  },
  {
   "cell_type": "markdown",
   "id": "31784d9e",
   "metadata": {},
   "source": [
    "For the above, we need to use the `loadfile()` method to read text from a file into a Bloqade program. If instead you want to read a QASM circuit that is already stored in a variable in your code as a string, use `loads()` as a method.\n",
    "\n",
    "Now we choose the target Bloqade dialect group that will be interpreting and compiling circuits to. Since we will be seeking parallelization of our circuits throughout, we enable that as follows"
   ]
  },
  {
   "cell_type": "code",
   "execution_count": null,
   "id": "26faf24e",
   "metadata": {},
   "outputs": [],
   "source": [
    "from bloqade.qasm2.emit import QASM2 # the QASM2 target\n",
    "from bloqade.qasm2.parse import pprint # the QASM2 pretty printer\n",
    "\n",
    "target = QASM2(allow_parallel=True)"
   ]
  },
  {
   "cell_type": "markdown",
   "id": "4aa7013e",
   "metadata": {},
   "source": [
    "We are ready! Let's look at a QASM file of one of the programs we loaded.\n",
    "\n",
    "Note that `target.emit` produces an AST [Abstract Syntax Tree](https://en.wikipedia.org/wiki/Abstract_syntax_tree) that can be used for pretty printing but if you just want a standard QASM2 string to work with, you can use the `emit_str` method instead (: "
   ]
  },
  {
   "cell_type": "code",
   "execution_count": null,
   "id": "0a26e897",
   "metadata": {},
   "outputs": [
    {
     "name": "stdout",
     "output_type": "stream",
     "text": [
      "\u001b[90mKIRIN {func,lowering.call,lowering.func,py.ilist,qasm2.core,qasm2.expr,qasm2.indexing,qasm2.parallel,qasm2.uop,scf}\u001b[0m;\n",
      "\u001b[31minclude\u001b[0m \u001b[32m\"qelib1.inc\"\u001b[0m;\n",
      "\u001b[31mqreg\u001b[0m var_0[3];\n",
      "\u001b[36mh\u001b[0m \u001b[36mvar_0\u001b[0m[\u001b[39m2\u001b[0m];\n",
      "\u001b[31mCX\u001b[0m \u001b[36mvar_0\u001b[0m[\u001b[39m1\u001b[0m], \u001b[36mvar_0\u001b[0m[\u001b[39m2\u001b[0m];\n",
      "\u001b[31mU\u001b[0m(0.0, 3.9269908169872414, 1.5707963267948966) \u001b[36mvar_0\u001b[0m[\u001b[39m2\u001b[0m];\n",
      "\u001b[31mCX\u001b[0m \u001b[36mvar_0\u001b[0m[\u001b[39m1\u001b[0m], \u001b[36mvar_0\u001b[0m[\u001b[39m2\u001b[0m];\n",
      "\u001b[31mU\u001b[0m(0.0, 5.497787143782138, 1.5707963267948966) \u001b[36mvar_0\u001b[0m[\u001b[39m2\u001b[0m];\n",
      "\u001b[31mCX\u001b[0m \u001b[36mvar_0\u001b[0m[\u001b[39m0\u001b[0m], \u001b[36mvar_0\u001b[0m[\u001b[39m2\u001b[0m];\n",
      "\u001b[31mU\u001b[0m(0.0, 4.319689898685965, 1.5707963267948966) \u001b[36mvar_0\u001b[0m[\u001b[39m2\u001b[0m];\n",
      "\u001b[31mCX\u001b[0m \u001b[36mvar_0\u001b[0m[\u001b[39m0\u001b[0m], \u001b[36mvar_0\u001b[0m[\u001b[39m2\u001b[0m];\n",
      "\u001b[31mU\u001b[0m(0.0, 5.105088062083414, 1.5707963267948966) \u001b[36mvar_0\u001b[0m[\u001b[39m2\u001b[0m];\n",
      "\u001b[36mh\u001b[0m \u001b[36mvar_0\u001b[0m[\u001b[39m1\u001b[0m];\n",
      "\u001b[31mCX\u001b[0m \u001b[36mvar_0\u001b[0m[\u001b[39m0\u001b[0m], \u001b[36mvar_0\u001b[0m[\u001b[39m1\u001b[0m];\n",
      "\u001b[31mU\u001b[0m(0.0, 3.9269908169872414, 1.5707963267948966) \u001b[36mvar_0\u001b[0m[\u001b[39m1\u001b[0m];\n",
      "\u001b[31mCX\u001b[0m \u001b[36mvar_0\u001b[0m[\u001b[39m0\u001b[0m], \u001b[36mvar_0\u001b[0m[\u001b[39m1\u001b[0m];\n",
      "\u001b[31mU\u001b[0m(0.0, 5.497787143782138, 1.5707963267948966) \u001b[36mvar_0\u001b[0m[\u001b[39m1\u001b[0m];\n",
      "\u001b[36mh\u001b[0m \u001b[36mvar_0\u001b[0m[\u001b[39m0\u001b[0m];\n"
     ]
    }
   ],
   "source": [
    "program_ast = target.emit(programs[challenge])\n",
    "pprint(program_ast)"
   ]
  },
  {
   "cell_type": "markdown",
   "id": "90b31563",
   "metadata": {},
   "source": [
    "These circuits are not ready for neutral-atom implementations. The native gates are not correct, and we don't see any parallelization of compatible unitaries. Let's revisit that then.\n",
    "\n",
    "If we were careful (we were!) to interpret our circuits with `qasm2.extended`, we can use our Kirin compiler tool chain to \"walk\" through the circuit and apply gate rewrites into our neutral-atom native set following correct rewrite rules. That is achieved as follows (dismiss warnings, if they appear!)"
   ]
  },
  {
   "cell_type": "code",
   "execution_count": null,
   "id": "25636410",
   "metadata": {},
   "outputs": [],
   "source": [
    "# There's a dependency in Bloqade that (currently)\n",
    "# spits out some warnings you don't need to worry about.\n",
    "import warnings\n",
    "warnings.filterwarnings(\"ignore\")\n",
    "\n",
    "from bloqade.qasm2.rewrite.native_gates import RydbergGateSetRewriteRule\n",
    "from kirin.rewrite import Walk\n",
    "\n",
    "\n",
    "circuit = programs[challenge]\n",
    "\n",
    "Walk(RydbergGateSetRewriteRule(circuit.dialects)).rewrite(circuit.code);"
   ]
  },
  {
   "cell_type": "code",
   "execution_count": null,
   "id": "b19e2842",
   "metadata": {},
   "outputs": [],
   "source": [
    "\n",
    "\n",
    "\n",
    "write_to_qasm_file(circuit, \"storage/tempcirc.qasm\")"
   ]
  },
  {
   "cell_type": "code",
   "execution_count": null,
   "id": "fd9d51a5",
   "metadata": {},
   "outputs": [
    {
     "name": "stdout",
     "output_type": "stream",
     "text": [
      "['_Printable__get_printer', '__annotations__', '__call__', '__class__', '__class_getitem__', '__dataclass_fields__', '__dataclass_params__', '__delattr__', '__dict__', '__dir__', '__doc__', '__eq__', '__format__', '__ge__', '__getattribute__', '__gt__', '__hash__', '__init__', '__init_subclass__', '__le__', '__lt__', '__match_args__', '__module__', '__ne__', '__new__', '__orig_bases__', '__parameters__', '__reduce__', '__reduce_ex__', '__repr__', '__setattr__', '__sizeof__', '__slots__', '__str__', '__subclasshook__', '__weakref__', '_is_protocol', 'arg_names', 'arg_types', 'args', 'callable_region', 'code', 'dialects', 'fields', 'file', 'inferred', 'lineno_begin', 'mod', 'pager', 'print', 'print_impl', 'print_str', 'py_func', 'return_type', 'self_type', 'similar', 'sym_name', 'verify', 'verify_type']\n"
     ]
    }
   ],
   "source": [
    "# print(dir(circuit))"
   ]
  },
  {
   "cell_type": "markdown",
   "id": "fcc1f97e",
   "metadata": {},
   "source": [
    "Transformations on the circuit happen in place (because we didn't use `similar()` to generate a new circuit). Let's see what happened"
   ]
  },
  {
   "cell_type": "code",
   "execution_count": null,
   "id": "4c728e76",
   "metadata": {},
   "outputs": [
    {
     "name": "stdout",
     "output_type": "stream",
     "text": [
      "\u001b[90mKIRIN {func,lowering.call,lowering.func,py.ilist,qasm2.core,qasm2.expr,qasm2.indexing,qasm2.parallel,qasm2.uop,scf}\u001b[0m;\n",
      "\u001b[31minclude\u001b[0m \u001b[32m\"qelib1.inc\"\u001b[0m;\n",
      "\u001b[31mqreg\u001b[0m var_0[3];\n",
      "\u001b[31mU\u001b[0m(1.5707963267949, 0.0, 3.14159265358979) \u001b[36mvar_0\u001b[0m[\u001b[39m2\u001b[0m];\n",
      "\u001b[31mU\u001b[0m(1.5707963267949, 0.0, 6.28318530717959) \u001b[36mvar_0\u001b[0m[\u001b[39m2\u001b[0m];\n",
      "\u001b[36mcz\u001b[0m \u001b[36mvar_0\u001b[0m[\u001b[39m1\u001b[0m], \u001b[36mvar_0\u001b[0m[\u001b[39m2\u001b[0m];\n",
      "\u001b[31mU\u001b[0m(1.5707963267949, 3.14159265358979, 3.14159265358979) \u001b[36mvar_0\u001b[0m[\u001b[39m2\u001b[0m];\n",
      "\u001b[31mU\u001b[0m(0.0, 0.0, 3.14159265358979) \u001b[36mvar_0\u001b[0m[\u001b[39m1\u001b[0m];\n",
      "\u001b[31mU\u001b[0m(0.0, 0.0, 6.28318530717958) \u001b[36mvar_0\u001b[0m[\u001b[39m2\u001b[0m];\n",
      "\u001b[31mU\u001b[0m(0.0, 3.9269908169872414, 1.5707963267948966) \u001b[36mvar_0\u001b[0m[\u001b[39m2\u001b[0m];\n",
      "\u001b[31mU\u001b[0m(1.5707963267949, 0.0, 6.28318530717959) \u001b[36mvar_0\u001b[0m[\u001b[39m2\u001b[0m];\n",
      "\u001b[36mcz\u001b[0m \u001b[36mvar_0\u001b[0m[\u001b[39m1\u001b[0m], \u001b[36mvar_0\u001b[0m[\u001b[39m2\u001b[0m];\n",
      "\u001b[31mU\u001b[0m(1.5707963267949, 3.14159265358979, 3.14159265358979) \u001b[36mvar_0\u001b[0m[\u001b[39m2\u001b[0m];\n",
      "\u001b[31mU\u001b[0m(0.0, 0.0, 3.14159265358979) \u001b[36mvar_0\u001b[0m[\u001b[39m1\u001b[0m];\n",
      "\u001b[31mU\u001b[0m(0.0, 0.0, 6.28318530717958) \u001b[36mvar_0\u001b[0m[\u001b[39m2\u001b[0m];\n",
      "\u001b[31mU\u001b[0m(0.0, 5.497787143782138, 1.5707963267948966) \u001b[36mvar_0\u001b[0m[\u001b[39m2\u001b[0m];\n",
      "\u001b[31mU\u001b[0m(1.5707963267949, 0.0, 6.28318530717959) \u001b[36mvar_0\u001b[0m[\u001b[39m2\u001b[0m];\n",
      "\u001b[36mcz\u001b[0m \u001b[36mvar_0\u001b[0m[\u001b[39m0\u001b[0m], \u001b[36mvar_0\u001b[0m[\u001b[39m2\u001b[0m];\n",
      "\u001b[31mU\u001b[0m(1.5707963267949, 3.14159265358979, 3.14159265358979) \u001b[36mvar_0\u001b[0m[\u001b[39m2\u001b[0m];\n",
      "\u001b[31mU\u001b[0m(0.0, 0.0, 3.14159265358979) \u001b[36mvar_0\u001b[0m[\u001b[39m0\u001b[0m];\n",
      "\u001b[31mU\u001b[0m(0.0, 0.0, 6.28318530717958) \u001b[36mvar_0\u001b[0m[\u001b[39m2\u001b[0m];\n",
      "\u001b[31mU\u001b[0m(0.0, 4.319689898685965, 1.5707963267948966) \u001b[36mvar_0\u001b[0m[\u001b[39m2\u001b[0m];\n",
      "\u001b[31mU\u001b[0m(1.5707963267949, 0.0, 6.28318530717959) \u001b[36mvar_0\u001b[0m[\u001b[39m2\u001b[0m];\n",
      "\u001b[36mcz\u001b[0m \u001b[36mvar_0\u001b[0m[\u001b[39m0\u001b[0m], \u001b[36mvar_0\u001b[0m[\u001b[39m2\u001b[0m];\n",
      "\u001b[31mU\u001b[0m(1.5707963267949, 3.14159265358979, 3.14159265358979) \u001b[36mvar_0\u001b[0m[\u001b[39m2\u001b[0m];\n",
      "\u001b[31mU\u001b[0m(0.0, 0.0, 3.14159265358979) \u001b[36mvar_0\u001b[0m[\u001b[39m0\u001b[0m];\n",
      "\u001b[31mU\u001b[0m(0.0, 0.0, 6.28318530717958) \u001b[36mvar_0\u001b[0m[\u001b[39m2\u001b[0m];\n",
      "\u001b[31mU\u001b[0m(0.0, 5.105088062083414, 1.5707963267948966) \u001b[36mvar_0\u001b[0m[\u001b[39m2\u001b[0m];\n",
      "\u001b[31mU\u001b[0m(1.5707963267949, 0.0, 3.14159265358979) \u001b[36mvar_0\u001b[0m[\u001b[39m1\u001b[0m];\n",
      "\u001b[31mU\u001b[0m(1.5707963267949, 0.0, 6.28318530717959) \u001b[36mvar_0\u001b[0m[\u001b[39m1\u001b[0m];\n",
      "\u001b[36mcz\u001b[0m \u001b[36mvar_0\u001b[0m[\u001b[39m0\u001b[0m], \u001b[36mvar_0\u001b[0m[\u001b[39m1\u001b[0m];\n",
      "\u001b[31mU\u001b[0m(1.5707963267949, 3.14159265358979, 3.14159265358979) \u001b[36mvar_0\u001b[0m[\u001b[39m1\u001b[0m];\n",
      "\u001b[31mU\u001b[0m(0.0, 0.0, 3.14159265358979) \u001b[36mvar_0\u001b[0m[\u001b[39m0\u001b[0m];\n",
      "\u001b[31mU\u001b[0m(0.0, 0.0, 6.28318530717958) \u001b[36mvar_0\u001b[0m[\u001b[39m1\u001b[0m];\n",
      "\u001b[31mU\u001b[0m(0.0, 3.9269908169872414, 1.5707963267948966) \u001b[36mvar_0\u001b[0m[\u001b[39m1\u001b[0m];\n",
      "\u001b[31mU\u001b[0m(1.5707963267949, 0.0, 6.28318530717959) \u001b[36mvar_0\u001b[0m[\u001b[39m1\u001b[0m];\n",
      "\u001b[36mcz\u001b[0m \u001b[36mvar_0\u001b[0m[\u001b[39m0\u001b[0m], \u001b[36mvar_0\u001b[0m[\u001b[39m1\u001b[0m];\n",
      "\u001b[31mU\u001b[0m(1.5707963267949, 3.14159265358979, 3.14159265358979) \u001b[36mvar_0\u001b[0m[\u001b[39m1\u001b[0m];\n",
      "\u001b[31mU\u001b[0m(0.0, 0.0, 3.14159265358979) \u001b[36mvar_0\u001b[0m[\u001b[39m0\u001b[0m];\n",
      "\u001b[31mU\u001b[0m(0.0, 0.0, 6.28318530717958) \u001b[36mvar_0\u001b[0m[\u001b[39m1\u001b[0m];\n",
      "\u001b[31mU\u001b[0m(0.0, 5.497787143782138, 1.5707963267948966) \u001b[36mvar_0\u001b[0m[\u001b[39m1\u001b[0m];\n",
      "\u001b[31mU\u001b[0m(1.5707963267949, 0.0, 3.14159265358979) \u001b[36mvar_0\u001b[0m[\u001b[39m0\u001b[0m];\n"
     ]
    }
   ],
   "source": [
    "native_gates_unoptimized_ast = target.emit(circuit)\n",
    "pprint(native_gates_unoptimized_ast)"
   ]
  },
  {
   "cell_type": "markdown",
   "id": "b9fc6d8f",
   "metadata": {},
   "source": [
    "All the CNOTs and Hadamards were converted accordingly to CZs and $R_y(\\pi/2)$ rotations. This is the gate-set that we want!\n",
    "\n",
    "The process above was a compiler pass and we are not done with them. Now we want to generate parallel commands. We can do that via another pass as follows"
   ]
  },
  {
   "cell_type": "code",
   "execution_count": null,
   "id": "1042fe31",
   "metadata": {},
   "outputs": [],
   "source": [
    "from bloqade.qasm2.passes import UOpToParallel\n",
    "\n",
    "UOpToParallel(circuit.dialects)(circuit)\n",
    "parallelized_circuit = circuit.similar(qasm2.extended)"
   ]
  },
  {
   "cell_type": "markdown",
   "id": "77b354f8",
   "metadata": {},
   "source": [
    "Now circuit got modified, but we created a copy of it and saved in `circuit_parallel` for the sake of example. Let's see what we got"
   ]
  },
  {
   "cell_type": "code",
   "execution_count": null,
   "id": "b8f43039",
   "metadata": {},
   "outputs": [
    {
     "name": "stdout",
     "output_type": "stream",
     "text": [
      "\u001b[90mKIRIN {func,lowering.call,lowering.func,py.ilist,qasm2.core,qasm2.expr,qasm2.indexing,qasm2.parallel,qasm2.uop,scf}\u001b[0m;\n",
      "\u001b[31minclude\u001b[0m \u001b[32m\"qelib1.inc\"\u001b[0m;\n",
      "\u001b[31mqreg\u001b[0m var_0[3];\n",
      "\u001b[31mU\u001b[0m(1.5707963267949, 0.0, 3.14159265358979) \u001b[36mvar_0\u001b[0m[\u001b[39m2\u001b[0m];\n",
      "\u001b[31mU\u001b[0m(1.5707963267949, 3.14159265358979, 3.14159265358979) \u001b[36mvar_0\u001b[0m[\u001b[39m2\u001b[0m];\n",
      "\u001b[36mcz\u001b[0m \u001b[36mvar_0\u001b[0m[\u001b[39m1\u001b[0m], \u001b[36mvar_0\u001b[0m[\u001b[39m2\u001b[0m];\n",
      "\u001b[31mU\u001b[0m(1.5707963267949, 0.0, 6.28318530717959) \u001b[36mvar_0\u001b[0m[\u001b[39m2\u001b[0m];\n",
      "\u001b[31mU\u001b[0m(0.0, 3.9269908169872414, 1.5707963267948966) \u001b[36mvar_0\u001b[0m[\u001b[39m2\u001b[0m];\n",
      "\u001b[31mU\u001b[0m(1.5707963267949, 3.14159265358979, 3.14159265358979) \u001b[36mvar_0\u001b[0m[\u001b[39m2\u001b[0m];\n",
      "\u001b[36mcz\u001b[0m \u001b[36mvar_0\u001b[0m[\u001b[39m1\u001b[0m], \u001b[36mvar_0\u001b[0m[\u001b[39m2\u001b[0m];\n",
      "\u001b[31mU\u001b[0m(1.5707963267949, 0.0, 6.28318530717959) \u001b[36mvar_0\u001b[0m[\u001b[39m2\u001b[0m];\n",
      "\u001b[31mU\u001b[0m(0.0, 5.497787143782138, 1.5707963267948966) \u001b[36mvar_0\u001b[0m[\u001b[39m2\u001b[0m];\n",
      "\u001b[31mU\u001b[0m(1.5707963267949, 3.14159265358979, 3.14159265358979) \u001b[36mvar_0\u001b[0m[\u001b[39m2\u001b[0m];\n",
      "\u001b[36mcz\u001b[0m \u001b[36mvar_0\u001b[0m[\u001b[39m0\u001b[0m], \u001b[36mvar_0\u001b[0m[\u001b[39m2\u001b[0m];\n",
      "\u001b[31mU\u001b[0m(1.5707963267949, 0.0, 6.28318530717959) \u001b[36mvar_0\u001b[0m[\u001b[39m2\u001b[0m];\n",
      "\u001b[31mU\u001b[0m(0.0, 4.319689898685965, 1.5707963267948966) \u001b[36mvar_0\u001b[0m[\u001b[39m2\u001b[0m];\n",
      "\u001b[31mU\u001b[0m(1.5707963267949, 3.14159265358979, 3.14159265358979) \u001b[36mvar_0\u001b[0m[\u001b[39m2\u001b[0m];\n",
      "\u001b[36mcz\u001b[0m \u001b[36mvar_0\u001b[0m[\u001b[39m0\u001b[0m], \u001b[36mvar_0\u001b[0m[\u001b[39m2\u001b[0m];\n",
      "\u001b[31mU\u001b[0m(1.5707963267949, 0.0, 6.28318530717959) \u001b[36mvar_0\u001b[0m[\u001b[39m2\u001b[0m];\n",
      "\u001b[31mU\u001b[0m(0.0, 5.105088062083414, 1.5707963267948966) \u001b[36mvar_0\u001b[0m[\u001b[39m2\u001b[0m];\n",
      "\u001b[31mU\u001b[0m(1.5707963267949, 0.0, 3.14159265358979) \u001b[36mvar_0\u001b[0m[\u001b[39m1\u001b[0m];\n",
      "\u001b[31mU\u001b[0m(1.5707963267949, 3.14159265358979, 3.14159265358979) \u001b[36mvar_0\u001b[0m[\u001b[39m1\u001b[0m];\n",
      "\u001b[36mcz\u001b[0m \u001b[36mvar_0\u001b[0m[\u001b[39m0\u001b[0m], \u001b[36mvar_0\u001b[0m[\u001b[39m1\u001b[0m];\n",
      "\u001b[31mU\u001b[0m(1.5707963267949, 0.0, 6.28318530717959) \u001b[36mvar_0\u001b[0m[\u001b[39m1\u001b[0m];\n",
      "\u001b[31mU\u001b[0m(0.0, 3.9269908169872414, 1.5707963267948966) \u001b[36mvar_0\u001b[0m[\u001b[39m1\u001b[0m];\n",
      "\u001b[31mU\u001b[0m(1.5707963267949, 3.14159265358979, 3.14159265358979) \u001b[36mvar_0\u001b[0m[\u001b[39m1\u001b[0m];\n",
      "\u001b[36mcz\u001b[0m \u001b[36mvar_0\u001b[0m[\u001b[39m0\u001b[0m], \u001b[36mvar_0\u001b[0m[\u001b[39m1\u001b[0m];\n",
      "\u001b[31mU\u001b[0m(1.5707963267949, 0.0, 6.28318530717959) \u001b[36mvar_0\u001b[0m[\u001b[39m1\u001b[0m];\n",
      "\u001b[31mU\u001b[0m(0.0, 5.497787143782138, 1.5707963267948966) \u001b[36mvar_0\u001b[0m[\u001b[39m1\u001b[0m];\n",
      "\u001b[31mU\u001b[0m(1.5707963267949, 0.0, 3.14159265358979) \u001b[36mvar_0\u001b[0m[\u001b[39m0\u001b[0m];\n"
     ]
    }
   ],
   "source": [
    "native_gates_optimized_ast = target.emit(parallelized_circuit)\n",
    "pprint(native_gates_optimized_ast)"
   ]
  },
  {
   "cell_type": "markdown",
   "id": "2b32356f",
   "metadata": {},
   "source": [
    "Now we got a circuit that can be interpreted by a neutral-atom quantum computer with the understanding of what operations can (and should!) be done in parallel.\n",
    "\n",
    "## Parallelization performance analysis\n",
    "\n",
    "How well did we do? Let's count our parallel operations! Some of our operations are parallelizable, but others are not. Counting them in separate can be promptly achieved from the QASM file as follows"
   ]
  },
  {
   "cell_type": "code",
   "execution_count": null,
   "id": "e131f314",
   "metadata": {},
   "outputs": [],
   "source": [
    "# Put the code below into a function that accepts an AST\n",
    "# and prints the counts \n",
    "\n",
    "def print_gate_counts(ast): \n",
    "    \"\"\"\n",
    "    Print the counts of parallel and non parallel in the given AST,\n",
    "    Distinguishing between single U and CZ gates and their parallelized versions.\n",
    "    \"\"\"\n",
    "    test_string = qasm2.parse.spprint(ast)\n",
    "\n",
    "    parallel_cz_count = test_string.count(\"parallel.CZ\")\n",
    "    parallel_u_count = test_string.count(\"parallel.U\")\n",
    "    u_count = test_string.count(\"U\")  # To avoid counting \"parallel.U\"\n",
    "    cz_count = test_string.count(\"cz\")\n",
    "\n",
    "    print(f\"parallel CZ: {parallel_cz_count}\")\n",
    "    print(f\"parallel U: {parallel_u_count}\")\n",
    "    print(f\"other U: {u_count - parallel_u_count}\")\n",
    "    print(f\"other CZ: {cz_count}\")"
   ]
  },
  {
   "cell_type": "code",
   "execution_count": null,
   "id": "70acb2db",
   "metadata": {},
   "outputs": [
    {
     "name": "stdout",
     "output_type": "stream",
     "text": [
      "Unoptimized Circuit with Native Gates\n"
     ]
    },
    {
     "name": "stdout",
     "output_type": "stream",
     "text": [
      "parallel CZ: 0\n",
      "parallel U: 0\n",
      "other U: 21\n",
      "other CZ: 6\n",
      "\n",
      "\n",
      "Optimized Circuit with Native Gates\n",
      "parallel CZ: 0\n",
      "parallel U: 0\n",
      "other U: 21\n",
      "other CZ: 6\n"
     ]
    }
   ],
   "source": [
    "# Lets plug in the AST we got from translating the QAOA circuit \n",
    "# to the native gate set but with no optimizations\n",
    "\n",
    "print(\"Unoptimized Circuit with Native Gates\")\n",
    "print_gate_counts(native_gates_unoptimized_ast)\n",
    "\n",
    "print(\"\\n\")\n",
    "\n",
    "# Now lets plug in the AST we got after parallelization\n",
    "\n",
    "print(\"Optimized Circuit with Native Gates\")\n",
    "print_gate_counts(native_gates_optimized_ast)"
   ]
  },
  {
   "cell_type": "markdown",
   "id": "a8ec45bd",
   "metadata": {},
   "source": [
    "But if you want to operate directly from a Bloqade program, a circuit will have a `callable_region` that can be \"walked\" and examined for the gates that appear in them. Then, we can extract our counts as"
   ]
  },
  {
   "cell_type": "code",
   "execution_count": null,
   "id": "4813b7d5",
   "metadata": {},
   "outputs": [
    {
     "name": "stdout",
     "output_type": "stream",
     "text": [
      "parallel CZ: 0\n",
      "parallel U: 0\n",
      "Other U: 21\n",
      "other CZ: 6\n"
     ]
    }
   ],
   "source": [
    "parallel_cz = 0\n",
    "standard_cz = 0\n",
    "parallel_u = 0\n",
    "other_u = 0\n",
    "for stmt in parallelized_circuit.callable_region.walk():\n",
    "    \n",
    "    if isinstance(stmt, qasm2.dialects.parallel.CZ):\n",
    "        parallel_cz += 1\n",
    "    elif isinstance(stmt, qasm2.dialects.uop.CZ):\n",
    "        standard_cz += 1\n",
    "    elif isinstance(stmt, (qasm2.dialects.parallel.UGate, qasm2.dialects.parallel.RZ)):\n",
    "        parallel_u += 1\n",
    "    elif isinstance(stmt, (qasm2.dialects.uop.SingleQubitGate)):\n",
    "        other_u += 1\n",
    "    #else: print(stmt)\n",
    "        \n",
    "print(f\"parallel CZ: {parallel_cz}\")\n",
    "print(f\"parallel U: {parallel_u}\")\n",
    "print(f\"Other U: {other_u}\")\n",
    "print(f\"other CZ: {standard_cz}\")"
   ]
  },
  {
   "cell_type": "markdown",
   "id": "6da30906",
   "metadata": {},
   "source": [
    "## Visualization\n",
    "\n",
    "Ok, looking at QASM can be a bit tiring. While Bloqade shines in allowing you to optimize programs for neutral atom architectures as well as build complex circuits easily, we are still working on visualization functionalities. While that is not ready, we can always use other packages to help! For example, if you like Qiskit, we can define a simple method to generate a Qiskit circuit from our new circuits. \n",
    "\n",
    "First let's just define a compiler pass that combines all the process above; then we ensure that every circuit exported to Qiskit will be recompiled in advance. Here we go."
   ]
  },
  {
   "cell_type": "code",
   "execution_count": null,
   "id": "3106b641",
   "metadata": {},
   "outputs": [],
   "source": [
    "from kirin import ir\n",
    "from qiskit import QuantumCircuit\n",
    "\n",
    "from bloqade.qasm2.rewrite.native_gates import RydbergGateSetRewriteRule\n",
    "from kirin import ir\n",
    "from kirin.rewrite import Walk\n",
    "from bloqade.qasm2.passes import UOpToParallel, QASM2Fold\n",
    "\n",
    "\n",
    "@ir.dialect_group(qasm2.extended)\n",
    "def extended_opt(self):\n",
    "    native_rewrite = Walk(RydbergGateSetRewriteRule(self)) # use Kirin's functionality to walk code line by line while applying neutral-atom gate decomposition as defined in Bloqade\n",
    "    parallelize_pass = UOpToParallel(self) # review the code and apply parallelization using a heuristic\n",
    "    agg_fold = QASM2Fold(self) # supports parallelization by unfolding loops to search for parallelization opportunities\n",
    "\n",
    "    # here we define our new compiler pass\n",
    "    def run_pass(\n",
    "        kernel: ir.Method,\n",
    "        *,\n",
    "        fold: bool = True,\n",
    "        typeinfer: bool = True,\n",
    "        parallelize: bool = False,\n",
    "    ):\n",
    "        assert qasm2.extended.run_pass is not None\n",
    "        qasm2.extended.run_pass(kernel, fold=fold, typeinfer=typeinfer) # apply the original run_pass to the lowered kernel\n",
    "        native_rewrite.rewrite(kernel.code) # decompose all gates in the circuit to neutral atom gate set\n",
    "\n",
    "        # here goes our parallelization optimizer; the order of the commands here matters!\n",
    "        if parallelize:\n",
    "            agg_fold.fixpoint(kernel)\n",
    "            parallelize_pass(kernel)\n",
    "\n",
    "    return run_pass\n",
    "\n",
    "\n",
    "# helper to go from Method → Qiskit\n",
    "def method_to_qiskit(method: ir.Method, *,parallelize: bool = True) -> QuantumCircuit:\n",
    "    # run extended pass in case forgot\n",
    "    extended_opt.run_pass(method, parallelize=parallelize)\n",
    "    # emit OpenQASM2 text\n",
    "    qasm = QASM2().emit_str(method)\n",
    "    # parse into a Qiskit circuit\n",
    "    return QuantumCircuit.from_qasm_str(qasm)\n"
   ]
  },
  {
   "cell_type": "markdown",
   "id": "67aa0010",
   "metadata": {},
   "source": [
    "Let's see this in action"
   ]
  },
  {
   "cell_type": "code",
   "execution_count": null,
   "id": "a9361c8a",
   "metadata": {},
   "outputs": [
    {
     "name": "stdout",
     "output_type": "stream",
     "text": [
      "                                                                        »\n",
      "var_0_0: ───────────────────────────────────────────────────────────────»\n",
      "                                                                        »\n",
      "var_0_1: ─────────────────────────────■─────────────────────────────────»\n",
      "         ┌────────────┐┌────────────┐ │ ┌─────────────┐┌───────────────┐»\n",
      "var_0_2: ┤ U(π/2,0,π) ├┤ U(π/2,π,π) ├─■─┤ U(π/2,0,2π) ├┤ U(0,5π/4,π/2) ├»\n",
      "         └────────────┘└────────────┘   └─────────────┘└───────────────┘»\n",
      "«                                                                           »\n",
      "«var_0_0: ────────────────────────────────────────────────────────────────■─»\n",
      "«                           ┌────────────┐  ┌────────────┐                │ »\n",
      "«var_0_1: ───────────────■──┤ U(π/2,0,π) ├──┤ U(π/2,π,π) ├────────────────┼─»\n",
      "«         ┌────────────┐ │ ┌┴────────────┤┌─┴────────────┴┐┌────────────┐ │ »\n",
      "«var_0_2: ┤ U(π/2,π,π) ├─■─┤ U(π/2,0,2π) ├┤ U(0,7π/4,π/2) ├┤ U(π/2,π,π) ├─■─»\n",
      "«         └────────────┘   └─────────────┘└───────────────┘└────────────┘   »\n",
      "«                                                                          »\n",
      "«var_0_0: ────────────────────────────────────────────────■────────■───────»\n",
      "«                                                         │        │       »\n",
      "«var_0_1: ────────────────────────────────────────────────┼────────■───────»\n",
      "«         ┌─────────────┐┌────────────────┐┌────────────┐ │ ┌─────────────┐»\n",
      "«var_0_2: ┤ U(π/2,0,2π) ├┤ U(0,11π/8,π/2) ├┤ U(π/2,π,π) ├─■─┤ U(π/2,0,2π) ├»\n",
      "«         └─────────────┘└────────────────┘└────────────┘   └─────────────┘»\n",
      "«                                                              ┌────────────┐»\n",
      "«var_0_0: ──────────────────────────────────────────────────■──┤ U(π/2,0,π) ├»\n",
      "«          ┌─────────────┐  ┌───────────────┐┌────────────┐ │ ┌┴────────────┤»\n",
      "«var_0_1: ─┤ U(π/2,0,2π) ├──┤ U(0,5π/4,π/2) ├┤ U(π/2,π,π) ├─■─┤ U(π/2,0,2π) ├»\n",
      "«         ┌┴─────────────┴─┐└───────────────┘└────────────┘   └─────────────┘»\n",
      "«var_0_2: ┤ U(0,13π/8,π/2) ├─────────────────────────────────────────────────»\n",
      "«         └────────────────┘                                                 »\n",
      "«                          \n",
      "«var_0_0: ─────────────────\n",
      "«         ┌───────────────┐\n",
      "«var_0_1: ┤ U(0,7π/4,π/2) ├\n",
      "«         └───────────────┘\n",
      "«var_0_2: ─────────────────\n",
      "«                          \n"
     ]
    },
    {
     "data": {
      "image/png": "[encoded data removed]",
      "text/plain": [
       "<Figure size 1765.88x198.994 with 1 Axes>"
      ]
     },
     "metadata": {},
     "output_type": "display_data"
    }
   ],
   "source": [
    "qc = method_to_qiskit(parallelized_circuit)\n",
    "\n",
    "print(qc.draw(output=\"text\"))\n",
    "fig = qc.draw(output=\"mpl\", fold=120, scale=0.7)\n",
    "display(fig)   # in a Jupyter notebook"
   ]
  },
  {
   "cell_type": "markdown",
   "id": "2a94251c",
   "metadata": {},
   "source": [
    "When producing images automatically, we lose a bit the handles of the barriers that define parallelizable operations. Still, for simple circuits, these can still be inspected by eye, helping optimization."
   ]
  },
  {
   "cell_type": "markdown",
   "id": "2a849aab",
   "metadata": {},
   "source": [
    "# We will now reduce the ciruit!!!"
   ]
  },
  {
   "cell_type": "markdown",
   "id": "9ee68c40",
   "metadata": {},
   "source": [
    "Code for multiplying U3 matrices."
   ]
  },
  {
   "cell_type": "code",
   "execution_count": null,
   "id": "cb8da9c6",
   "metadata": {},
   "outputs": [],
   "source": [
    "import numpy as np\n",
    "\n",
    "from scipy.optimize import minimize\n",
    "\n",
    "\n",
    "def U3(\n",
    "    theta: float,\n",
    "    phi: float,\n",
    "    lamb: float,\n",
    ") -> np.ndarray:\n",
    "    return np.array(\n",
    "        [\n",
    "            [np.exp(-1j * (phi + lamb)/2) * np.cos(theta / 2), -np.exp(- 1j * (phi - lamb)/2) * np.sin(theta / 2)],\n",
    "            [np.exp(1j * (phi - lamb)/2 ) * np.sin(theta / 2), np.exp(1j * (phi + lamb)/ 2) * (np.cos(theta / 2)),],\n",
    "        ]\n",
    "    )\n",
    "\n",
    "\n",
    "def prod_U3s(\n",
    "    theta: float,\n",
    "    phi: float,\n",
    "    lamb: float,\n",
    "    thetaprime: float,\n",
    "    phistar: float,\n",
    "    lambstar: float,\n",
    "    debug: bool = False,\n",
    ") -> tuple[float, float, float, float]:\n",
    "\n",
    "    U = U3(theta, phi, lamb)\n",
    "    Uprime = U3(thetaprime, phistar, lambstar)\n",
    "    U_prod_true = U @ Uprime\n",
    "\n",
    "    alpha_start, beta_start, gamma_start = np.random.rand(3) * 2 * np.pi\n",
    "\n",
    "    def objective(params):\n",
    "        Uprod_estimate = U3(params[0], params[1], params[2])\n",
    "        return np.linalg.norm(U_prod_true - Uprod_estimate)\n",
    "    \n",
    "    res = minimize(\n",
    "        objective,\n",
    "        [alpha_start, beta_start, gamma_start],\n",
    "        method=\"BFGS\",\n",
    "        tol=1e-8,\n",
    "        options={\"maxiter\": 10000}\n",
    "\n",
    "    )\n",
    "    alpha, beta, gamma = res.x\n",
    "    if debug:\n",
    "        print(res)\n",
    "\n",
    "    return alpha, beta, gamma, res.fun"
   ]
  },
  {
   "cell_type": "markdown",
   "id": "4125d1c1",
   "metadata": {},
   "source": [
    "Now, let's actually apply the simplification"
   ]
  },
  {
   "cell_type": "code",
   "execution_count": null,
   "id": "f295f0ea",
   "metadata": {},
   "outputs": [],
   "source": [
    "from bloqade.qasm2.emit import QASM2 as QASM2_target # the QASM2 target\n",
    "from bloqade.qasm2.parse.lowering import QASM2\n",
    "\n",
    "from bloqade import qasm2\n",
    "import numpy as np\n",
    "\n",
    "path=  \"storage/tempcirc.qasm\"\n"
   ]
  },
  {
   "cell_type": "code",
   "execution_count": null,
   "id": "2bb5d2a8",
   "metadata": {},
   "outputs": [
    {
     "name": "stdout",
     "output_type": "stream",
     "text": [
      "[('replace', (3.141592924764994, 5.7109079911354925, 2.569315024923469)), 'remove', 'keep', ('replace', (7.0685834747005005, 7.853981627640236, -1.570796337438145)), 'keep', 'remove', 'remove', 'remove', 'keep', ('replace', (-0.7853981560922453, 1.5707963068578958, 10.995574283069885)), ('replace', (3.1415934195503903, 2.5019699277751313, 2.5019698567485427)), 'remove', 'remove', 'remove', 'keep', ('replace', (5.890486209343438, 4.712388983028415, 1.5707963067592896)), 'keep', 'remove', 'remove', 'remove', 'keep', ('replace', (4.712388991597563, 0.39269907517876396, -5.611934289901784e-09)), 'keep', 'remove', 'remove', 'remove', 'remove', 'keep', ('replace', (5.497787149080817, 4.712388978246653, 1.570796318070194)), 'keep', 'remove', 'remove', 'remove', 'keep', ('replace', (1.5707963284183435, 3.9269908116154246, 3.1415926359192214)), ('replace', (-1.5707963321226752, 3.141592650448059, 3.1415926459870493)), 'remove', 'remove', 'remove']\n",
      "('replace', (3.141592924764994, 5.7109079911354925, 2.569315024923469))\n",
      "hey\n",
      "('replace', (3.141592924764994, 5.7109079911354925, 2.569315024923469))\n",
      "U(3.141592924764994, 5.7109079911354925, 2.569315024923469) var_0[2];\n",
      "\n",
      "('replace', (7.0685834747005005, 7.853981627640236, -1.570796337438145))\n",
      "hey\n",
      "('replace', (7.0685834747005005, 7.853981627640236, -1.570796337438145))\n",
      "U(7.0685834747005005, 7.853981627640236, -1.570796337438145) var_0[2];\n",
      "\n",
      "('replace', (-0.7853981560922453, 1.5707963068578958, 10.995574283069885))\n",
      "hey\n",
      "('replace', (-0.7853981560922453, 1.5707963068578958, 10.995574283069885))\n",
      "U(-0.7853981560922453, 1.5707963068578958, 10.995574283069885) var_0[2];\n",
      "\n",
      "('replace', (3.1415934195503903, 2.5019699277751313, 2.5019698567485427))\n",
      "hey\n",
      "('replace', (3.1415934195503903, 2.5019699277751313, 2.5019698567485427))\n",
      "U(3.1415934195503903, 2.5019699277751313, 2.5019698567485427) var_0[1];\n",
      "\n",
      "('replace', (5.890486209343438, 4.712388983028415, 1.5707963067592896))\n",
      "hey\n",
      "('replace', (5.890486209343438, 4.712388983028415, 1.5707963067592896))\n",
      "U(5.890486209343438, 4.712388983028415, 1.5707963067592896) var_0[2];\n",
      "\n",
      "('replace', (4.712388991597563, 0.39269907517876396, -5.611934289901784e-09))\n",
      "hey\n",
      "('replace', (4.712388991597563, 0.39269907517876396, -5.611934289901784e-09))\n",
      "U(4.712388991597563, 0.39269907517876396, -5.611934289901784e-09) var_0[2];\n",
      "\n",
      "('replace', (5.497787149080817, 4.712388978246653, 1.570796318070194))\n",
      "hey\n",
      "('replace', (5.497787149080817, 4.712388978246653, 1.570796318070194))\n",
      "U(5.497787149080817, 4.712388978246653, 1.570796318070194) var_0[1];\n",
      "\n",
      "('replace', (1.5707963284183435, 3.9269908116154246, 3.1415926359192214))\n",
      "hey\n",
      "('replace', (1.5707963284183435, 3.9269908116154246, 3.1415926359192214))\n",
      "U(1.5707963284183435, 3.9269908116154246, 3.1415926359192214) var_0[1];\n",
      "\n",
      "('replace', (-1.5707963321226752, 3.141592650448059, 3.1415926459870493))\n",
      "hey\n",
      "('replace', (-1.5707963321226752, 3.141592650448059, 3.1415926459870493))\n",
      "U(-1.5707963321226752, 3.141592650448059, 3.1415926459870493) var_0[0];\n",
      "\n",
      "['U(3.141592924764994, 5.7109079911354925, 2.569315024923469) var_0[2];\\n', 'U(1.5707963267949, 0.0, 6.28318530717959) var_0[2];\\n', 'cz var_0[1], var_0[2];\\n', 'U(7.0685834747005005, 7.853981627640236, -1.570796337438145) var_0[2];\\n', 'U(0.0, 0.0, 3.14159265358979) var_0[1];\\n', 'U(0.0, 0.0, 6.28318530717958) var_0[2];\\n', 'U(0.0, 3.9269908169872414, 1.5707963267948966) var_0[2];\\n', 'U(1.5707963267949, 0.0, 6.28318530717959) var_0[2];\\n', 'cz var_0[1], var_0[2];\\n', 'U(-0.7853981560922453, 1.5707963068578958, 10.995574283069885) var_0[2];\\n', 'U(3.1415934195503903, 2.5019699277751313, 2.5019698567485427) var_0[1];\\n', 'U(0.0, 0.0, 6.28318530717958) var_0[2];\\n', 'U(0.0, 5.497787143782138, 1.5707963267948966) var_0[2];\\n', 'U(1.5707963267949, 0.0, 6.28318530717959) var_0[2];\\n', 'cz var_0[0], var_0[2];\\n', 'U(5.890486209343438, 4.712388983028415, 1.5707963067592896) var_0[2];\\n', 'U(0.0, 0.0, 3.14159265358979) var_0[0];\\n', 'U(0.0, 0.0, 6.28318530717958) var_0[2];\\n', 'U(0.0, 4.319689898685965, 1.5707963267948966) var_0[2];\\n', 'U(1.5707963267949, 0.0, 6.28318530717959) var_0[2];\\n', 'cz var_0[0], var_0[2];\\n', 'U(4.712388991597563, 0.39269907517876396, -5.611934289901784e-09) var_0[2];\\n', 'U(0.0, 0.0, 3.14159265358979) var_0[0];\\n', 'U(0.0, 0.0, 6.28318530717958) var_0[2];\\n', 'U(0.0, 5.105088062083414, 1.5707963267948966) var_0[2];\\n', 'U(1.5707963267949, 0.0, 3.14159265358979) var_0[1];\\n', 'U(1.5707963267949, 0.0, 6.28318530717959) var_0[1];\\n', 'cz var_0[0], var_0[1];\\n', 'U(5.497787149080817, 4.712388978246653, 1.570796318070194) var_0[1];\\n', 'U(0.0, 0.0, 3.14159265358979) var_0[0];\\n', 'U(0.0, 0.0, 6.28318530717958) var_0[1];\\n', 'U(0.0, 3.9269908169872414, 1.5707963267948966) var_0[1];\\n', 'U(1.5707963267949, 0.0, 6.28318530717959) var_0[1];\\n', 'cz var_0[0], var_0[1];\\n', 'U(1.5707963284183435, 3.9269908116154246, 3.1415926359192214) var_0[1];\\n', 'U(-1.5707963321226752, 3.141592650448059, 3.1415926459870493) var_0[0];\\n', 'U(0.0, 0.0, 6.28318530717958) var_0[1];\\n', 'U(0.0, 5.497787143782138, 1.5707963267948966) var_0[1];\\n', 'U(1.5707963267949, 0.0, 3.14159265358979) var_0[0];\\n']\n",
      "['OPENQASM 2.0;\\n', 'include \"qelib1.inc\";\\n', 'qreg var_0[3];\\n', 'U(3.141592924764994, 5.7109079911354925, 2.569315024923469) var_0[2];\\n', 'cz var_0[1], var_0[2];\\n', 'U(7.0685834747005005, 7.853981627640236, -1.570796337438145) var_0[2];\\n', 'U(0.0, 0.0, 3.14159265358979) var_0[1];\\n', 'cz var_0[1], var_0[2];\\n', 'U(-0.7853981560922453, 1.5707963068578958, 10.995574283069885) var_0[2];\\n', 'U(3.1415934195503903, 2.5019699277751313, 2.5019698567485427) var_0[1];\\n', 'cz var_0[0], var_0[2];\\n', 'U(5.890486209343438, 4.712388983028415, 1.5707963067592896) var_0[2];\\n', 'U(0.0, 0.0, 3.14159265358979) var_0[0];\\n', 'cz var_0[0], var_0[2];\\n', 'U(4.712388991597563, 0.39269907517876396, -5.611934289901784e-09) var_0[2];\\n', 'U(0.0, 0.0, 3.14159265358979) var_0[0];\\n', 'cz var_0[0], var_0[1];\\n', 'U(5.497787149080817, 4.712388978246653, 1.570796318070194) var_0[1];\\n', 'U(0.0, 0.0, 3.14159265358979) var_0[0];\\n', 'cz var_0[0], var_0[1];\\n', 'U(1.5707963284183435, 3.9269908116154246, 3.1415926359192214) var_0[1];\\n', 'U(-1.5707963321226752, 3.141592650448059, 3.1415926459870493) var_0[0];\\n']\n"
     ]
    }
   ],
   "source": [
    "np.random.seed(0)\n",
    "\n",
    "\n",
    "def merge(segment):\n",
    "    seg = segment.copy()[::-1]\n",
    "    # print(segment)\n",
    "    params = seg[-1][2]\n",
    "    for i in range(len(seg) -2, -1, -1):\n",
    "        alpha, beta, gamma, _ = map(float, prod_U3s(*seg[i][2], *params))\n",
    "        params = (alpha, beta, gamma)\n",
    "    \n",
    "    # print(params)\n",
    "    # raise ValueError(\"STOP\")\n",
    "\n",
    "    return params\n",
    "\n",
    "\n",
    "\n",
    "\n",
    "\n",
    "with open(path, \"r\") as f:\n",
    "    original_lines = f.readlines()\n",
    "    lines = [line.strip().replace(\",\", \"\").replace(\";\", \"\") for line in original_lines.copy()]\n",
    "    lines = lines[3:]\n",
    "\n",
    "    qubits = set()\n",
    "    # for line in lines:\n",
    "\n",
    "    for line in lines:\n",
    "        elements = line.split()\n",
    "        if len(elements) == 4:\n",
    "            qubits.add(elements[-1])\n",
    "\n",
    "    # print(qubits)\n",
    "\n",
    "    # print(lines)\n",
    "    what_to_do_with_lines = [\"keep\"] * len(lines)\n",
    "    for qubit in qubits:\n",
    "        gate_applications = []\n",
    "        for i, line in enumerate(lines):\n",
    "            if qubit in line:\n",
    "                elements = line.split()\n",
    "                # print(elements[0])\n",
    "                if elements[0].startswith(\"U(\"):\n",
    "                    theta = float(elements[0].split(\"(\")[1])\n",
    "                    phi = float(elements[1])\n",
    "                    lam = float(elements[2].split(\")\")[0])\n",
    "                    # params = [float(x.replace(\"(\", \"\").replace(\")\", \"\")) for x in elements]\n",
    "                    gate_applications.append((i, \"U\", (theta, phi, lam)))\n",
    "                elif elements[0] == \"cz\":\n",
    "                    gate_applications.append((i, \"cz\", -1))\n",
    "                else:\n",
    "                    raise ValueError(f\"Unknown gate type: {elements[0]}\")\n",
    "                \n",
    "\n",
    "        segment = []\n",
    "\n",
    "        for i in range(len(gate_applications)):\n",
    "            if gate_applications[i][1] == \"U\":\n",
    "                segment.append(gate_applications[i])\n",
    "            elif gate_applications[i][1] == \"cz\":\n",
    "                if len(segment) > 1:\n",
    "                    new_params = merge(segment)\n",
    "                    what_to_do_with_lines[segment[0][0]] = (\"replace\", new_params)\n",
    "                    for j in range(1, len(segment)):\n",
    "                        what_to_do_with_lines[segment[j][0]] = \"remove\"\n",
    "                segment = []\n",
    "\n",
    "        if len(segment) > 1:\n",
    "            new_params = merge(segment)\n",
    "            what_to_do_with_lines[segment[0][0]] = (\"replace\", new_params)\n",
    "            for j in range(1, len(segment)):\n",
    "                what_to_do_with_lines[segment[j][0]] = \"remove\"\n",
    "\n",
    "            \n",
    "        \n",
    "        # print(*gate_applications, sep=\"\\n\")\n",
    "# print(\"WHAT TO DO WITH LINES\")\n",
    "# print(*what_to_do_with_lines, sep=\"\\n\")\n",
    "\n",
    "# print(lines[-1])\n",
    "\n",
    "new_lines = original_lines[3:]\n",
    "# print(new_lines)\n",
    "# print(*what_to_do_with_lines, sep=\"\\n\")\n",
    "\n",
    "print(what_to_do_with_lines)\n",
    "\n",
    "for i in range(len(what_to_do_with_lines)):\n",
    "    if isinstance(what_to_do_with_lines[i], tuple):\n",
    "        print(what_to_do_with_lines[i])\n",
    "        if what_to_do_with_lines[i][0] == \"replace\":\n",
    "            print(\"hey\")\n",
    "            new_lines[i] = f\"U({what_to_do_with_lines[i][1][0]}, {what_to_do_with_lines[i][1][1]}, {what_to_do_with_lines[i][1][2]}) {lines[i].split()[-1]};\\n\"\n",
    "            print(what_to_do_with_lines[i])\n",
    "            print(new_lines[i])\n",
    "        else:\n",
    "            raise ValueError(f\"Unknown action: {what_to_do_with_lines[i][0]}\")\n",
    "print(new_lines)\n",
    "new_lines = [line for i, line in enumerate(new_lines) if what_to_do_with_lines[i] != \"remove\"]\n",
    "new_lines = original_lines[:3] + new_lines\n",
    "print(new_lines)\n",
    "\n",
    "program = \"\".join(new_lines)\n",
    "\n",
    "\n",
    "\n",
    "with open(\"storage/result_circuit.qasm\", \"w\") as f:\n",
    "    f.write(program)\n",
    "    # for i, line in enumerate(lines):\n",
    "\n",
    "    \n",
    "    "
   ]
  },
  {
   "cell_type": "code",
   "execution_count": null,
   "id": "5d4ec653",
   "metadata": {},
   "outputs": [
    {
     "name": "stdout",
     "output_type": "stream",
     "text": [
      "4.367956002754722\n"
     ]
    }
   ],
   "source": [
    "from qiskit import QuantumCircuit\n",
    "from qiskit.quantum_info import Operator\n",
    "import numpy as np\n",
    "\n",
    "with open (\"assets/baseline/1.qasm\", \"r\") as f:\n",
    "    baseline = f.read()\n",
    "\n",
    "with open(\"storage/tempcirc.qasm\", \"r\") as f:\n",
    "    unshortened = f.read()\n",
    "\n",
    "qiskit_circuit = QuantumCircuit.from_qasm_str(program)\n",
    "qiskit_circuit_baseline = QuantumCircuit.from_qasm_str(baseline)\n",
    "qiskit_circuit_unshortened = QuantumCircuit.from_qasm_str(unshortened)\n",
    "\n",
    "\n",
    "oper = Operator(qiskit_circuit)\n",
    "oper_baseline = Operator(qiskit_circuit_baseline)\n",
    "oper_unshortened = Operator(qiskit_circuit_unshortened)\n",
    "\n",
    "\n",
    "print(np.linalg.norm(oper_baseline - np.exp(1j * 2) * oper))"
   ]
  },
  {
   "cell_type": "code",
   "execution_count": null,
   "id": "ae5b5398",
   "metadata": {},
   "outputs": [
    {
     "name": "stdout",
     "output_type": "stream",
     "text": [
      "5.86268913927347e-06\n"
     ]
    }
   ],
   "source": [
    "min_norm = np.inf\n",
    "for phi in np.linspace(0, 2*np.pi, 1000000):\n",
    "\n",
    "    min_norm = min(np.linalg.norm(oper - np.exp(1j * phi) * oper_baseline), min_norm)\n",
    "\n",
    "print(min_norm)\n",
    "\n",
    "# phi = 0\n",
    "# print(np.linalg.norm(oper - np.exp(1j * phi) * oper_baseline))"
   ]
  },
  {
   "cell_type": "code",
   "execution_count": null,
   "id": "509932eb",
   "metadata": {},
   "outputs": [
    {
     "name": "stdout",
     "output_type": "stream",
     "text": [
      "True\n"
     ]
    }
   ],
   "source": [
    "print(np.allclose(oper_baseline, oper_unshortened))"
   ]
  },
  {
   "cell_type": "code",
   "execution_count": null,
   "id": "554e9a22",
   "metadata": {},
   "outputs": [
    {
     "data": {
      "image/png": "[encoded data removed]",
      "text/plain": [
       "<Figure size 1937.4x284.278 with 1 Axes>"
      ]
     },
     "metadata": {},
     "output_type": "display_data"
    }
   ],
   "source": [
    "qiskit_circuit.draw(output=\"mpl\")"
   ]
  },
  {
   "cell_type": "code",
   "execution_count": null,
   "id": "e45980f2",
   "metadata": {},
   "outputs": [
    {
     "data": {
      "image/png": "[encoded data removed]",
      "text/plain": [
       "<Figure size 2271.85x618.722 with 1 Axes>"
      ]
     },
     "metadata": {},
     "output_type": "display_data"
    }
   ],
   "source": [
    "qiskit_circuit_unshortened.draw(output=\"mpl\")"
   ]
  },
  {
   "cell_type": "code",
   "execution_count": null,
   "id": "ce467ae5",
   "metadata": {},
   "outputs": [
    {
     "name": "stdout",
     "output_type": "stream",
     "text": [
      "[[ 0.96891242+0.j         -0.2171174 -0.11861178j]\n",
      " [ 0.2171174 +0.11861178j  0.52350562+0.81531169j]]\n"
     ]
    }
   ],
   "source": [
    "from qiskit.circuit.library import UGate\n",
    "\n",
    "\n",
    "ggate = UGate(0.5, 0.5, 0.5)\n",
    "print(ggate.to_matrix())"
   ]
  },
  {
   "cell_type": "code",
   "execution_count": null,
   "id": "9c62f71d",
   "metadata": {},
   "outputs": [],
   "source": []
  },
  {
   "cell_type": "code",
   "execution_count": null,
   "id": "66110f28",
   "metadata": {},
   "outputs": [
    {
     "name": "stdout",
     "output_type": "stream",
     "text": [
      "Operator([[-0.35355339+4.17228019e-15j, -0.13529903+3.26640741e-01j,\n",
      "            0.45710678+2.50000000e-01j,  0.13529903+3.26640741e-01j,\n",
      "           -0.35355339+1.18910452e-15j, -0.13529903+3.26640741e-01j,\n",
      "           -0.95710678+2.50000000e-01j,  0.13529903+3.26640741e-01j],\n",
      "          [-0.35355339+6.45700524e-15j,  0.84240581-3.26640741e-01j,\n",
      "           -0.25      +2.50000000e-01j, -0.13529903-3.26640741e-01j,\n",
      "           -0.35355339+3.47382956e-15j, -0.57180776-3.26640741e-01j,\n",
      "           -0.25      +2.50000000e-01j, -0.13529903-3.26640741e-01j],\n",
      "          [ 0.35355339-2.56069383e-15j, -0.32664074-1.35299025e-01j,\n",
      "            0.25      -2.50000000e-01j,  0.32664074-1.35299025e-01j,\n",
      "            0.35355339-7.90709917e-15j, -0.32664074-1.35299025e-01j,\n",
      "            0.25      -2.50000000e-01j,  0.32664074-1.35299025e-01j],\n",
      "          [-0.35355339+1.11476565e-14j,  0.32664074+1.35299025e-01j,\n",
      "            0.25      -2.50000000e-01j,  0.38046604+1.35299025e-01j,\n",
      "           -0.35355339+8.08597616e-15j,  0.32664074+1.35299025e-01j,\n",
      "            0.25      -2.50000000e-01j,  0.38046604+1.35299025e-01j],\n",
      "          [-0.35355339+1.36124611e-14j, -0.32664074+1.35299025e-01j,\n",
      "           -0.95710678-2.50000000e-01j, -0.32664074-1.35299025e-01j,\n",
      "            0.35355339-1.05507808e-14j,  0.32664074-1.35299025e-01j,\n",
      "           -0.45710678+2.50000000e-01j,  0.32664074+1.35299025e-01j],\n",
      "          [-0.35355339+1.58971861e-14j, -0.38046604-1.35299025e-01j,\n",
      "           -0.25      -2.50000000e-01j,  0.32664074+1.35299025e-01j,\n",
      "            0.35355339-1.28355058e-14j, -1.03374752+1.35299025e-01j,\n",
      "            0.25      +2.50000000e-01j, -0.32664074-1.35299025e-01j],\n",
      "          [ 0.35355339+6.84023477e-15j, -0.13529903-3.26640741e-01j,\n",
      "            0.25      +2.50000000e-01j, -0.13529903+3.26640741e-01j,\n",
      "           -0.35355339-1.59196020e-15j,  0.13529903+3.26640741e-01j,\n",
      "           -0.25      -2.50000000e-01j,  0.13529903-3.26640741e-01j],\n",
      "          [-0.35355339+2.05485851e-14j,  0.13529903+3.26640741e-01j,\n",
      "            0.25      +2.50000000e-01j,  0.84240581-3.26640741e-01j,\n",
      "            0.35355339-1.75850355e-14j, -0.13529903-3.26640741e-01j,\n",
      "           -0.25      -2.50000000e-01j, -0.84240581+3.26640741e-01j]],\n",
      "         input_dims=(2, 2, 2), output_dims=(2, 2, 2))\n"
     ]
    }
   ],
   "source": [
    "print(oper - oper_unshortened)"
   ]
  }
 ],
 "metadata": {
  "kernelspec": {
   "display_name": ".venv",
   "language": "python",
   "name": "python3"
  },
  "language_info": {
   "name": "python",
   "version": "3.10.9"
  }
 },
 "nbformat": 4,
 "nbformat_minor": 5
}
